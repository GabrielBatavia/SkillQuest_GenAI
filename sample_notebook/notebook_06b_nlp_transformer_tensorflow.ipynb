{
 "cells": [
  {
   "metadata": {},
   "cell_type": "markdown",
   "source": "### Arsitektur Model (Improve)",
   "id": "afb3c65da24093cf"
  },
  {
   "metadata": {},
   "cell_type": "markdown",
   "source": [
    "    +-----------------------------+\n",
    "    |       Input Text            |\n",
    "    |    (Tokenized Sequence)     |\n",
    "    +-------------+---------------+\n",
    "                  |\n",
    "                  v\n",
    "    +-----------------------------+\n",
    "    |     Embedding Layer         |\n",
    "    |  (Converts tokens to dense  |\n",
    "    |    vectors)                 |\n",
    "    +-------------+---------------+\n",
    "                  |\n",
    "                  v\n",
    "    +-----------------------------+\n",
    "    |    Positional Encoding      |\n",
    "    | (Adds positional information|\n",
    "    |   to embeddings)            |\n",
    "    +-------------+---------------+\n",
    "                  |\n",
    "                  v\n",
    "    +-----------------------------+\n",
    "    |       Decoder Layer         |\n",
    "    | (Multi-Head Attention + FFN)|\n",
    "    |         x N times           |\n",
    "    +-------------+---------------+\n",
    "                  |\n",
    "                  v\n",
    "    +-----------------------------+\n",
    "    |       Dense Layer           |\n",
    "    |    (Output probabilities)   |\n",
    "    +-------------+---------------+\n",
    "                  |\n",
    "                  v\n",
    "    +-----------------------------+\n",
    "    |       Output Text           |\n",
    "    | (Generated Token Sequence)  |\n",
    "    +-----------------------------+\n"
   ],
   "id": "4aaa7432a5418d8d"
  },
  {
   "metadata": {},
   "cell_type": "markdown",
   "source": [
    "### Penjelasan Perbaikan dari Arsitektur Sebelumnya\n",
    "\n",
    "Multi-Head Attention:\n",
    "\n",
    "- Sebelumnya: Model dasar Transformer dengan satu lapisan attention.\n",
    "- Sekarang: Multi-head attention memungkinkan model untuk fokus pada berbagai bagian dari input sequence secara simultan, meningkatkan kemampuan model untuk menangkap hubungan yang kompleks dalam data.\n",
    "\n",
    "Positional Encoding:\n",
    "- Sebelumnya: Positional encoding ditambahkan untuk memberikan informasi posisi.\n",
    "- Sekarang: Positional encoding tetap digunakan untuk memastikan model mengenali urutan posisi dalam data.\n",
    "\n",
    "Point-Wise Feed Forward Network:\n",
    "\n",
    "- Sebelumnya: Penggunaan feed-forward network sederhana.\n",
    "- Sekarang: Peningkatan feed-forward network dengan dua lapisan dense, memungkinkan model untuk memproses data lebih dalam dan meningkatkan kapasitas pembelajaran.\n",
    "\n",
    "Layer Normalization dan Dropout:\n",
    "\n",
    "- Sebelumnya: Mungkin menggunakan sedikit atau tidak ada normalisasi dan dropout.\n",
    "- Sekarang: Penggunaan layer normalization dan dropout setelah setiap lapisan attention dan feed-forward untuk meningkatkan stabilitas pelatihan dan mencegah overfitting.\n",
    "\n",
    "N Lapisan Decoder:\n",
    "\n",
    "- Sebelumnya: Mungkin menggunakan sedikit lapisan decoder.\n",
    "- Sekarang: Penggunaan beberapa lapisan decoder (N lapisan), meningkatkan kapasitas model untuk memahami konteks yang lebih dalam dan kompleks."
   ],
   "id": "c4f76f4ea807e9a5"
  },
  {
   "metadata": {},
   "cell_type": "markdown",
   "source": "### Membaca dan Membersihkan Teks",
   "id": "4bcb04fe45c454b5"
  },
  {
   "metadata": {
    "ExecuteTime": {
     "end_time": "2024-08-03T05:38:30.384890Z",
     "start_time": "2024-08-03T05:38:30.292141Z"
    }
   },
   "cell_type": "code",
   "source": [
    "import os\n",
    "\n",
    "def read_text_files(folder_path):\n",
    "    texts = []\n",
    "    for filename in os.listdir(folder_path):\n",
    "        if filename.endswith(\".txt\"):\n",
    "            with open(os.path.join(folder_path, filename), 'r', encoding='utf-8') as file:\n",
    "                content = file.read().strip()\n",
    "                if content:  # Check if the file is not empty\n",
    "                    cleaned_content = clean_text(content)\n",
    "                    texts.append(cleaned_content)\n",
    "    return texts\n",
    "\n",
    "def clean_text(text):\n",
    "    # Remove unwanted characters\n",
    "    unwanted_chars = ['*', '#', '_', ')', '(', '!', '?', '.', ',', '-']\n",
    "    for char in unwanted_chars:\n",
    "        text = text.replace(char, '')\n",
    "    return text\n",
    "\n",
    "folder_path = './Dataset/nlp_dataset'\n",
    "texts = read_text_files(folder_path)\n"
   ],
   "id": "3d03dc733f41fa7f",
   "outputs": [],
   "execution_count": 8
  },
  {
   "metadata": {
    "ExecuteTime": {
     "end_time": "2024-08-03T05:38:30.510231Z",
     "start_time": "2024-08-03T05:38:30.491190Z"
    }
   },
   "cell_type": "code",
   "source": [
    "def count_txt_files(folder_path):\n",
    "    return sum(1 for filename in os.listdir(folder_path) if filename.endswith(\".txt\"))\n",
    "\n",
    "num_files = count_txt_files(folder_path)\n",
    "print(f\"Number of .txt files in folder: {num_files}\")"
   ],
   "id": "5902e431521f9c22",
   "outputs": [
    {
     "name": "stdout",
     "output_type": "stream",
     "text": [
      "Number of .txt files in folder: 1000\n"
     ]
    }
   ],
   "execution_count": 9
  },
  {
   "metadata": {
    "ExecuteTime": {
     "end_time": "2024-08-03T05:38:30.852739Z",
     "start_time": "2024-08-03T05:38:30.740210Z"
    }
   },
   "cell_type": "code",
   "source": [
    "texts = read_text_files(folder_path)\n",
    "print(f\"Number of texts read: {len(texts)}\")"
   ],
   "id": "4368e012bf46f6ff",
   "outputs": [
    {
     "name": "stdout",
     "output_type": "stream",
     "text": [
      "Number of texts read: 397\n"
     ]
    }
   ],
   "execution_count": 10
  },
  {
   "metadata": {},
   "cell_type": "markdown",
   "source": "### Tokenisasi BPE",
   "id": "b1d514ee24ac7220"
  },
  {
   "metadata": {
    "ExecuteTime": {
     "end_time": "2024-08-03T05:38:48.481398Z",
     "start_time": "2024-08-03T05:38:32.286777Z"
    }
   },
   "cell_type": "code",
   "source": [
    "import re\n",
    "from collections import Counter, defaultdict\n",
    "import pickle\n",
    "\n",
    "def get_vocab(texts):\n",
    "    vocab = Counter()\n",
    "    for text in texts:\n",
    "        words = re.findall(r'\\b\\w+\\b', text.lower())\n",
    "        for word in words:\n",
    "            vocab[' '.join(list(word)) + ' </w>'] += 1\n",
    "    return vocab\n",
    "\n",
    "vocab = get_vocab(texts)\n",
    "\n",
    "def get_stats(vocab):\n",
    "    pairs = defaultdict(int)\n",
    "    for word, freq in vocab.items():\n",
    "        symbols = word.split()\n",
    "        for i in range(len(symbols) - 1):\n",
    "            pairs[symbols[i], symbols[i + 1]] += freq\n",
    "    return pairs\n",
    "\n",
    "def merge_vocab(pair, v_in):\n",
    "    v_out = {}\n",
    "    bigram = ' '.join(pair)\n",
    "    replacement = ''.join(pair)\n",
    "    for word in v_in:\n",
    "        w_out = word.replace(bigram, replacement)\n",
    "        v_out[w_out] = v_in[word]\n",
    "    return v_out\n",
    "\n",
    "num_merges = 10000\n",
    "for i in range(num_merges):\n",
    "    pairs = get_stats(vocab)\n",
    "    if not pairs:\n",
    "        break\n",
    "    best = max(pairs, key=pairs.get)\n",
    "    vocab = merge_vocab(best, vocab)\n",
    "\n",
    "# Membuat kamus token ke indeks\n",
    "token_vocab = {word.replace(' ', ''): i for i, word in enumerate(vocab.keys(), start=2)}\n",
    "token_vocab['<pad>'] = 0\n",
    "token_vocab['<unk>'] = 1\n",
    "\n",
    "# Membalik kamus dari indeks ke token\n",
    "inv_token_vocab = {idx: word for word, idx in token_vocab.items()}\n",
    "\n",
    "# Definisikan fungsi tokenisasi BPE\n",
    "def tokenize_bpe(texts, token_vocab):\n",
    "    tokenized_texts = []\n",
    "    for text in texts:\n",
    "        words = re.findall(r'\\b\\w+\\b', text.lower())\n",
    "        tokenized = []\n",
    "        for word in words:\n",
    "            token = ''.join([c if c in token_vocab else '<unk>' for c in word])\n",
    "            tokenized.append(token_vocab.get(token, token_vocab['<unk>']))\n",
    "        tokenized_texts.append(tokenized)\n",
    "    return tokenized_texts\n",
    "\n",
    "# Simpan token vocab dan encoded texts\n",
    "token_vocab_path = './saved_model/saved_notebook_06b/token_vocab.pkl'\n",
    "inv_token_vocab_path = './saved_model/saved_notebook_06b/inv_token_vocab.pkl'\n",
    "encoded_texts_bpe_path = './saved_model/saved_notebook_06b/encoded_texts_bpe.pkl'\n",
    "\n",
    "with open(token_vocab_path, 'wb') as f:\n",
    "    pickle.dump(token_vocab, f)\n",
    "\n",
    "with open(inv_token_vocab_path, 'wb') as f:\n",
    "    pickle.dump(inv_token_vocab, f)\n",
    "\n",
    "encoded_texts_bpe = tokenize_bpe(texts, token_vocab)\n",
    "with open(encoded_texts_bpe_path, 'wb') as f:\n",
    "    pickle.dump(encoded_texts_bpe, f)\n"
   ],
   "id": "1c068c9e0b309cda",
   "outputs": [],
   "execution_count": 11
  },
  {
   "metadata": {},
   "cell_type": "markdown",
   "source": "### Mengubah Teks Menjadi Indeks",
   "id": "a33643c2b8bc9245"
  },
  {
   "metadata": {
    "ExecuteTime": {
     "end_time": "2024-08-03T05:38:48.512125Z",
     "start_time": "2024-08-03T05:38:48.484258Z"
    }
   },
   "cell_type": "code",
   "source": [
    "# Muat token vocab dan encoded texts\n",
    "with open(token_vocab_path, 'rb') as f:\n",
    "    token_vocab = pickle.load(f)\n",
    "\n",
    "with open(inv_token_vocab_path, 'rb') as f:\n",
    "    inv_token_vocab = pickle.load(f)\n",
    "\n",
    "with open(encoded_texts_bpe_path, 'rb') as f:\n",
    "    encoded_texts_bpe = pickle.load(f)\n"
   ],
   "id": "89b9b55c6b3398f0",
   "outputs": [],
   "execution_count": 12
  },
  {
   "metadata": {},
   "cell_type": "markdown",
   "source": "### Definisi Model Transformer",
   "id": "e140d3b969cbd1fd"
  },
  {
   "metadata": {
    "ExecuteTime": {
     "end_time": "2024-08-03T05:40:15.387432Z",
     "start_time": "2024-08-03T05:40:15.367369Z"
    }
   },
   "cell_type": "code",
   "source": [
    "import tensorflow as tf\n",
    "from tensorflow.keras import layers\n",
    "import numpy as np\n",
    "\n",
    "class MyPositionalEncoding(layers.Layer):\n",
    "    def __init__(self, d_model, max_len=512):\n",
    "        super(MyPositionalEncoding, self).__init__()\n",
    "        self.pos_encoding = self.positional_encoding(max_len, d_model)\n",
    "\n",
    "    def get_angles(self, pos, i, d_model):\n",
    "        angle_rates = 1 / np.power(10000, (2 * (i//2)) / np.float32(d_model))\n",
    "        return pos * angle_rates\n",
    "\n",
    "    def positional_encoding(self, max_len, d_model):\n",
    "        angle_rads = self.get_angles(np.arange(max_len)[:, np.newaxis], np.arange(d_model)[np.newaxis, :], d_model)\n",
    "        angle_rads[:, 0::2] = np.sin(angle_rads[:, 0::2])\n",
    "        angle_rads[:, 1::2] = np.cos(angle_rads[:, 1::2])\n",
    "        pos_encoding = angle_rads[np.newaxis, ...]\n",
    "        return tf.cast(pos_encoding, dtype=tf.float32)\n",
    "\n",
    "    def call(self, inputs):\n",
    "        return inputs + self.pos_encoding[:, :tf.shape(inputs)[1], :]\n",
    "\n",
    "class MyMultiHeadAttention(layers.Layer):\n",
    "    def __init__(self, d_model, num_heads):\n",
    "        super(MyMultiHeadAttention, self).__init__()\n",
    "        self.num_heads = num_heads\n",
    "        self.d_model = d_model\n",
    "\n",
    "        assert d_model % self.num_heads == 0\n",
    "\n",
    "        self.depth = d_model // self.num_heads\n",
    "        self.wq = layers.Dense(d_model)\n",
    "        self.wk = layers.Dense(d_model)\n",
    "        self.wv = layers.Dense(d_model)\n",
    "        self.dense = layers.Dense(d_model)\n",
    "\n",
    "    def split_heads(self, x, batch_size):\n",
    "        x = tf.reshape(x, (batch_size, -1, self.num_heads, self.depth))\n",
    "        return tf.transpose(x, perm=[0, 2, 1, 3])\n",
    "\n",
    "    def call(self, v, k, q, mask):\n",
    "        batch_size = tf.shape(q)[0]\n",
    "\n",
    "        q = self.wq(q)\n",
    "        k = self.wk(k)\n",
    "        v = self.wv(v)\n",
    "\n",
    "        q = self.split_heads(q, batch_size)\n",
    "        k = self.split_heads(k, batch_size)\n",
    "        v = self.split_heads(v, batch_size)\n",
    "\n",
    "        scaled_attention, _ = self.scaled_dot_product_attention(q, k, v, mask)\n",
    "        scaled_attention = tf.transpose(scaled_attention, perm=[0, 2, 1, 3])\n",
    "        concat_attention = tf.reshape(scaled_attention, (batch_size, -1, self.d_model))\n",
    "\n",
    "        output = self.dense(concat_attention)\n",
    "        return output\n",
    "\n",
    "    def scaled_dot_product_attention(self, q, k, v, mask):\n",
    "        matmul_qk = tf.matmul(q, k, transpose_b=True)\n",
    "        dk = tf.cast(tf.shape(k)[-1], tf.float32)\n",
    "        scaled_attention_logits = matmul_qk / tf.math.sqrt(dk)\n",
    "\n",
    "        if mask is not None:\n",
    "            scaled_attention_logits += (mask * -1e9)\n",
    "\n",
    "        attention_weights = tf.nn.softmax(scaled_attention_logits, axis=-1)\n",
    "        output = tf.matmul(attention_weights, v)\n",
    "        return output, attention_weights\n",
    "\n",
    "class MyPointWiseFeedForwardNetwork(layers.Layer):\n",
    "    def __init__(self, d_model, dff):\n",
    "        super(MyPointWiseFeedForwardNetwork, self).__init__()\n",
    "        self.dense1 = layers.Dense(dff, activation='relu')\n",
    "        self.dense2 = layers.Dense(d_model)\n",
    "\n",
    "    def call(self, x):\n",
    "        x = self.dense1(x)\n",
    "        return self.dense2(x)\n"
   ],
   "id": "9ea6bf0112d1479",
   "outputs": [],
   "execution_count": 13
  },
  {
   "metadata": {},
   "cell_type": "markdown",
   "source": "### Definisi Decoder dan Model Transformer",
   "id": "d88bcc322a294167"
  },
  {
   "metadata": {
    "ExecuteTime": {
     "end_time": "2024-08-03T05:40:19.790839Z",
     "start_time": "2024-08-03T05:40:16.285913Z"
    }
   },
   "cell_type": "code",
   "source": [
    "class MyDecoderLayer(layers.Layer):\n",
    "    def __init__(self, d_model, num_heads, dff, rate=0.1):\n",
    "        super(MyDecoderLayer, self).__init__()\n",
    "\n",
    "        self.mha = MyMultiHeadAttention(d_model, num_heads)\n",
    "        self.ffn = MyPointWiseFeedForwardNetwork(d_model, dff)\n",
    "\n",
    "        self.layernorm1 = layers.LayerNormalization(epsilon=1e-6)\n",
    "        self.layernorm2 = layers.LayerNormalization(epsilon=1e-6)\n",
    "\n",
    "        self.dropout1 = layers.Dropout(rate)\n",
    "        self.dropout2 = layers.Dropout(rate)\n",
    "\n",
    "    def call(self, x, training, mask):\n",
    "        attn_output = self.mha(x, x, x, mask)\n",
    "        attn_output = self.dropout1(attn_output, training=training)\n",
    "        out1 = self.layernorm1(x + attn_output)\n",
    "\n",
    "        ffn_output = self.ffn(out1)\n",
    "        ffn_output = self.dropout2(ffn_output, training=training)\n",
    "        out2 = self.layernorm2(out1 + ffn_output)\n",
    "\n",
    "        return out2\n",
    "\n",
    "class MyDecoder(layers.Layer):\n",
    "    def __init__(self, num_layers, d_model, num_heads, dff, vocab_size, rate=0.1):\n",
    "        super(MyDecoder, self).__init__()\n",
    "\n",
    "        self.d_model = d_model\n",
    "        self.num_layers = num_layers\n",
    "\n",
    "        self.embedding = layers.Embedding(vocab_size, d_model)\n",
    "        self.pos_encoding = MyPositionalEncoding(d_model)\n",
    "\n",
    "        self.dec_layers = [MyDecoderLayer(d_model, num_heads, dff, rate) for _ in range(num_layers)]\n",
    "        self.dropout = layers.Dropout(rate)\n",
    "\n",
    "    def call(self, x, training, mask):\n",
    "        seq_len = tf.shape(x)[1]\n",
    "        attention_weights = {}\n",
    "\n",
    "        x = self.embedding(x)\n",
    "        x *= tf.math.sqrt(tf.cast(self.d_model, tf.float32))\n",
    "        x = self.pos_encoding(x)\n",
    "\n",
    "        x = self.dropout(x, training=training)\n",
    "\n",
    "        for i in range(self.num_layers):\n",
    "            x = self.dec_layers[i](x, training, mask)\n",
    "            attention_weights[f'decoder_layer{i+1}_block1'] = x\n",
    "\n",
    "        return x, attention_weights\n",
    "\n",
    "def create_transformer_model(vocab_size, num_layers=6, d_model=512, num_heads=8, dff=2048, max_seq_len=512, rate=0.1):\n",
    "    inputs = tf.keras.Input(shape=(max_seq_len,))\n",
    "    dec_mask = None\n",
    "\n",
    "    dec_output, attention_weights = MyDecoder(num_layers, d_model, num_heads, dff, vocab_size, rate)(inputs, training=True, mask=dec_mask)\n",
    "    final_output = layers.Dense(vocab_size)(dec_output)\n",
    "\n",
    "    return tf.keras.Model(inputs=inputs, outputs=final_output)\n",
    "\n",
    "# Membangun dan mengkompilasi model\n",
    "vocab_size = len(token_vocab)\n",
    "transformer_model = create_transformer_model(vocab_size)\n",
    "\n",
    "transformer_model.compile(optimizer=tf.keras.optimizers.Adam(learning_rate=5e-5),\n",
    "                          loss=tf.keras.losses.SparseCategoricalCrossentropy(from_logits=True),\n",
    "                          metrics=['accuracy'])\n"
   ],
   "id": "da99959abad33a74",
   "outputs": [],
   "execution_count": 14
  },
  {
   "metadata": {},
   "cell_type": "markdown",
   "source": "### Membuat Dataset dan DataLoader",
   "id": "913e8ea1d8f0452"
  },
  {
   "metadata": {
    "ExecuteTime": {
     "end_time": "2024-08-03T05:40:35.959862Z",
     "start_time": "2024-08-03T05:40:35.895769Z"
    }
   },
   "cell_type": "code",
   "source": [
    "import tensorflow as tf\n",
    "\n",
    "class BPEDataset(tf.data.Dataset):\n",
    "    def __new__(cls, encoded_texts, max_length=512):\n",
    "        input_texts = [text[:-1] for text in encoded_texts]  # Semua kecuali token terakhir sebagai input\n",
    "        target_texts = [text[1:] for text in encoded_texts]  # Semua kecuali token pertama sebagai target\n",
    "\n",
    "        input_texts_padded = tf.keras.preprocessing.sequence.pad_sequences(\n",
    "            input_texts, maxlen=max_length, padding='post', truncating='post', value=token_vocab['<pad>'])\n",
    "        target_texts_padded = tf.keras.preprocessing.sequence.pad_sequences(\n",
    "            target_texts, maxlen=max_length, padding='post', truncating='post', value=token_vocab['<pad>'])\n",
    "\n",
    "        return tf.data.Dataset.from_tensor_slices((input_texts_padded, target_texts_padded))\n",
    "\n",
    "with open(encoded_texts_bpe_path, 'rb') as f:\n",
    "    encoded_texts_bpe = pickle.load(f)\n",
    "\n",
    "bpe_dataset = BPEDataset(encoded_texts_bpe)\n",
    "bpe_dataloader = bpe_dataset.shuffle(10000).batch(4)\n"
   ],
   "id": "bdc741d66be71772",
   "outputs": [],
   "execution_count": 15
  },
  {
   "metadata": {},
   "cell_type": "markdown",
   "source": "### Training Model dengan Pencatatan Loss",
   "id": "e17720673ccb29d1"
  },
  {
   "metadata": {
    "ExecuteTime": {
     "end_time": "2024-08-03T05:43:39.777655Z",
     "start_time": "2024-08-03T05:40:53.132582Z"
    }
   },
   "cell_type": "code",
   "source": [
    "import matplotlib.pyplot as plt\n",
    "\n",
    "class LossHistory(tf.keras.callbacks.Callback):\n",
    "    def on_train_begin(self, logs={}):\n",
    "        self.losses = []\n",
    "\n",
    "    def on_epoch_end(self, epoch, logs={}):\n",
    "        self.losses.append(logs.get('loss'))\n",
    "\n",
    "# Training Loop\n",
    "epochs = 10\n",
    "history = LossHistory()\n",
    "\n",
    "# Latih model\n",
    "transformer_model.fit(bpe_dataloader, epochs=epochs, callbacks=[history])\n",
    "\n",
    "# Visualisasi loss selama pelatihan\n",
    "plt.plot(range(1, epochs + 1), history.losses, marker='o')\n",
    "plt.title('Training Loss Over Epochs')\n",
    "plt.xlabel('Epoch')\n",
    "plt.ylabel('Loss')\n",
    "plt.grid()\n",
    "plt.show()\n",
    "\n",
    "# Simpan model setelah pelatihan\n",
    "model_path = './saved_model/saved_notebook_06b/advanced_model'\n",
    "transformer_model.save(model_path)\n"
   ],
   "id": "e5eabc8ba66b8e3f",
   "outputs": [
    {
     "name": "stdout",
     "output_type": "stream",
     "text": [
      "Epoch 1/10\n",
      "100/100 [==============================] - 22s 151ms/step - loss: 0.5038 - accuracy: 0.9861\n",
      "Epoch 2/10\n",
      "100/100 [==============================] - 15s 151ms/step - loss: 0.0585 - accuracy: 0.9962\n",
      "Epoch 3/10\n",
      "100/100 [==============================] - 15s 151ms/step - loss: 0.0413 - accuracy: 0.9965\n",
      "Epoch 4/10\n",
      "100/100 [==============================] - 15s 151ms/step - loss: 0.0205 - accuracy: 0.9965\n",
      "Epoch 5/10\n",
      "100/100 [==============================] - 15s 151ms/step - loss: 0.0227 - accuracy: 0.9962\n",
      "Epoch 6/10\n",
      "100/100 [==============================] - 15s 150ms/step - loss: 0.0109 - accuracy: 0.9984\n",
      "Epoch 7/10\n",
      "100/100 [==============================] - 15s 150ms/step - loss: 0.0108 - accuracy: 0.9981\n",
      "Epoch 8/10\n",
      "100/100 [==============================] - 15s 150ms/step - loss: 0.0114 - accuracy: 0.9984\n",
      "Epoch 9/10\n",
      "100/100 [==============================] - 15s 150ms/step - loss: 0.0093 - accuracy: 0.9980\n",
      "Epoch 10/10\n",
      "100/100 [==============================] - 15s 150ms/step - loss: 0.0087 - accuracy: 0.9973\n"
     ]
    },
    {
     "data": {
      "text/plain": [
       "<Figure size 640x480 with 1 Axes>"
      ],
      "image/png": "[encoded data removed]"
     },
     "metadata": {},
     "output_type": "display_data"
    },
    {
     "name": "stderr",
     "output_type": "stream",
     "text": [
      "WARNING:absl:Found untraced functions such as embedding_layer_call_fn, embedding_layer_call_and_return_conditional_losses, my_positional_encoding_layer_call_fn, my_positional_encoding_layer_call_and_return_conditional_losses, dropout_12_layer_call_fn while saving (showing 5 of 162). These functions will not be directly callable after loading.\n"
     ]
    },
    {
     "name": "stdout",
     "output_type": "stream",
     "text": [
      "INFO:tensorflow:Assets written to: ./saved_model/saved_notebook_06b/advanced_model\\assets\n"
     ]
    },
    {
     "name": "stderr",
     "output_type": "stream",
     "text": [
      "INFO:tensorflow:Assets written to: ./saved_model/saved_notebook_06b/advanced_model\\assets\n"
     ]
    }
   ],
   "execution_count": 16
  },
  {
   "metadata": {},
   "cell_type": "markdown",
   "source": "### Fungsi Prediksi Teks",
   "id": "356ece00f9f2ae20"
  },
  {
   "metadata": {
    "ExecuteTime": {
     "end_time": "2024-08-03T05:44:42.130576Z",
     "start_time": "2024-08-03T05:44:41.833332Z"
    }
   },
   "cell_type": "code",
   "source": [
    "# Fungsi untuk prediksi teks\n",
    "def predict_text(model, input_text, token_vocab, inv_token_vocab, max_length=512, gen_length=50):\n",
    "    input_tokens = [token_vocab.get(c, token_vocab['<unk>']) for c in input_text]\n",
    "    input_tokens_padded = np.pad(input_tokens, (0, max_length - len(input_tokens)), constant_values=token_vocab['<pad>'])\n",
    "    input_tokens_padded = tf.expand_dims(input_tokens_padded, 0)  # Tambahkan dimensi batch\n",
    "\n",
    "    generated_text = input_text\n",
    "\n",
    "    for _ in range(gen_length):\n",
    "        predictions = model(input_tokens_padded)\n",
    "        predictions = predictions[:, len(input_tokens) - 1, :]  # Ambil prediksi dari token terakhir yang valid\n",
    "\n",
    "        predicted_id = tf.argmax(predictions, axis=-1).numpy()[0]\n",
    "\n",
    "        print(f\"Predicted ID: {predicted_id}, Predicted Token: {inv_token_vocab[predicted_id]}\")\n",
    "\n",
    "        if predicted_id in [token_vocab['<pad>'], token_vocab['<unk>']]:\n",
    "            break\n",
    "\n",
    "        input_tokens.append(predicted_id)\n",
    "        input_tokens_padded = np.pad(input_tokens, (0, max_length - len(input_tokens)), constant_values=token_vocab['<pad>'])\n",
    "        input_tokens_padded = tf.expand_dims(input_tokens_padded, 0)  # Tambahkan dimensi batch\n",
    "\n",
    "        generated_text += inv_token_vocab[predicted_id]\n",
    "\n",
    "        if inv_token_vocab[predicted_id] == '.':\n",
    "            break\n",
    "\n",
    "    return generated_text\n",
    "\n",
    "# Pertanyaan sebagai input\n",
    "input_question = \"Apa yang dimaksud dengan jaringan saraf?\"\n",
    "\n",
    "# Hasilkan teks berdasarkan input\n",
    "generated_text = predict_text(transformer_model, input_question, token_vocab, inv_token_vocab, max_length=512, gen_length=50)\n",
    "print(\"Generated Text:\", generated_text)\n"
   ],
   "id": "52488a740a8205d4",
   "outputs": [
    {
     "name": "stdout",
     "output_type": "stream",
     "text": [
      "Predicted ID: 0, Predicted Token: <pad>\n",
      "Generated Text: Apa yang dimaksud dengan jaringan saraf?\n"
     ]
    }
   ],
   "execution_count": 17
  },
  {
   "metadata": {},
   "cell_type": "code",
   "outputs": [],
   "execution_count": null,
   "source": "",
   "id": "a9a1733b492550cb"
  }
 ],
 "metadata": {
  "kernelspec": {
   "display_name": "Python 3",
   "language": "python",
   "name": "python3"
  },
  "language_info": {
   "codemirror_mode": {
    "name": "ipython",
    "version": 2
   },
   "file_extension": ".py",
   "mimetype": "text/x-python",
   "name": "python",
   "nbconvert_exporter": "python",
   "pygments_lexer": "ipython2",
   "version": "2.7.6"
  }
 },
 "nbformat": 4,
 "nbformat_minor": 5
}
