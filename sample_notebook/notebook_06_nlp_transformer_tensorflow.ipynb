{
 "cells": [
  {
   "metadata": {},
   "cell_type": "markdown",
   "source": "### Arsitektur Model",
   "id": "d68051471db6d1e"
  },
  {
   "metadata": {},
   "cell_type": "markdown",
   "source": [
    "    +-----------------------------+\n",
    "    |    Membaca dan Membersihkan |\n",
    "    |           Teks              |\n",
    "    | (Reading & Cleaning Text)   |\n",
    "    +-------------+---------------+\n",
    "                  |\n",
    "                  v\n",
    "    +-----------------------------+\n",
    "    |       Tokenisasi BPE        |\n",
    "    | (Byte Pair Encoding - BPE)  |\n",
    "    +-------------+---------------+\n",
    "                  |\n",
    "                  v\n",
    "    +-----------------------------+\n",
    "    |   Membuat Kamus Token dan   |\n",
    "    |      Mengubah Teks          |\n",
    "    |     Menjadi Indeks          |\n",
    "    +-------------+---------------+\n",
    "                  |\n",
    "                  v\n",
    "    +-----------------------------+\n",
    "    |     Definisi Model          |\n",
    "    |     (Transformer Decoder)   |\n",
    "    |      (Embedding +           |\n",
    "    |      Positional Encoding)   |\n",
    "    +-------------+---------------+\n",
    "                  |\n",
    "                  v\n",
    "    +-----------------------------+\n",
    "    |  Membuat Dataset dan        |\n",
    "    |     DataLoader              |\n",
    "    +-------------+---------------+\n",
    "                  |\n",
    "                  v\n",
    "    +-----------------------------+\n",
    "    |       Training Loop         |\n",
    "    |     (Dengan Pencatatan      |\n",
    "    |          Loss)              |\n",
    "    +-------------+---------------+\n",
    "                  |\n",
    "                  v\n",
    "    +-----------------------------+\n",
    "    |     Visualisasi Loss        |\n",
    "    +-------------+---------------+\n",
    "                  |\n",
    "                  v\n",
    "    +-----------------------------+\n",
    "    |     Menyimpan dan Memuat    |\n",
    "    |  Model & Data Tokenisasi    |\n",
    "    +-----------------------------+"
   ],
   "id": "a25fc5a6d64038c0"
  },
  {
   "metadata": {},
   "cell_type": "markdown",
   "source": [
    "Penjelasan Singkat\n",
    "Membaca dan Membersihkan Teks:\n",
    "\n",
    "- Membaca teks dari file dan membersihkan teks dari karakter yang tidak diinginkan.\n",
    "\n",
    "Tokenisasi BPE:\n",
    "\n",
    "- Menggunakan Byte Pair Encoding untuk mengubah teks menjadi token sub-kata.\n",
    "- Membuat kamus token (vocabulary) berdasarkan token sub-kata.\n",
    "\n",
    "Membuat Kamus Token dan Mengubah Teks Menjadi Indeks:\n",
    "\n",
    "- Mengubah teks asli menjadi indeks berdasarkan kamus token yang telah dibuat.\n",
    "\n",
    "Definisi Model (Transformer Decoder):\n",
    "\n",
    "- Model Transformer menggunakan lapisan embedding, positional encoding, dan beberapa lapisan decoder.\n",
    "- Membangun model dengan TensorFlow dan menyimpannya untuk digunakan nanti.\n",
    "\n",
    "Membuat Dataset dan DataLoader:\n",
    "\n",
    "- Menggunakan TensorFlow Dataset untuk memproses data yang telah di-tokenisasi menjadi batch untuk pelatihan.\n",
    "\n",
    "Training Loop:\n",
    "\n",
    "- Melatih model dengan dataset menggunakan optimizer dan loss function yang sesuai.\n",
    "- Mencatat loss selama pelatihan untuk evaluasi kinerja model.\n",
    "\n",
    "Visualisasi Loss:\n",
    "\n",
    "- Membuat plot untuk visualisasi loss selama pelatihan untuk memantau kinerja model.\n",
    "\n",
    "Menyimpan dan Memuat Model & Data Tokenisasi:\n",
    "\n",
    "- Menyimpan model yang dilatih dan data tokenisasi (vocabulary dan teks yang telah di-tokenisasi).\n",
    "- Memuat model dan data yang disimpan untuk melanjutkan pelatihan atau penggunaan model tanpa memulai dari awal."
   ],
   "id": "94399e48f3e13454"
  },
  {
   "metadata": {},
   "cell_type": "markdown",
   "source": "### Membaca dan Membersihkan Teks",
   "id": "5213b20d2abc0a63"
  },
  {
   "metadata": {
    "ExecuteTime": {
     "end_time": "2024-08-02T15:51:26.835280Z",
     "start_time": "2024-08-02T15:51:26.589740Z"
    }
   },
   "cell_type": "code",
   "source": [
    "import os\n",
    "\n",
    "def read_text_files(folder_path):\n",
    "    texts = []\n",
    "    for filename in os.listdir(folder_path):\n",
    "        if filename.endswith(\".txt\"):\n",
    "            with open(os.path.join(folder_path, filename), 'r', encoding='utf-8') as file:\n",
    "                content = file.read().strip()\n",
    "                if content:  # Check if the file is not empty\n",
    "                    cleaned_content = clean_text(content)\n",
    "                    texts.append(cleaned_content)\n",
    "    return texts\n",
    "\n",
    "def clean_text(text):\n",
    "    # Remove unwanted characters\n",
    "    unwanted_chars = ['*', '#', '_', ')', '(', '!', '?', '.', ',', '-']\n",
    "    for char in unwanted_chars:\n",
    "        text = text.replace(char, '')\n",
    "    return text\n",
    "\n",
    "folder_path = './Dataset/nlp_dataset'\n",
    "texts = read_text_files(folder_path)\n"
   ],
   "id": "6a70b9eae8afb59e",
   "outputs": [],
   "execution_count": 2
  },
  {
   "cell_type": "code",
   "id": "initial_id",
   "metadata": {
    "collapsed": true,
    "ExecuteTime": {
     "end_time": "2024-08-02T15:51:27.492635Z",
     "start_time": "2024-08-02T15:51:27.473243Z"
    }
   },
   "source": [
    "def count_txt_files(folder_path):\n",
    "    return sum(1 for filename in os.listdir(folder_path) if filename.endswith(\".txt\"))\n",
    "\n",
    "num_files = count_txt_files(folder_path)\n",
    "print(f\"Number of .txt files in folder: {num_files}\")"
   ],
   "outputs": [
    {
     "name": "stdout",
     "output_type": "stream",
     "text": [
      "Number of .txt files in folder: 1000\n"
     ]
    }
   ],
   "execution_count": 3
  },
  {
   "metadata": {
    "ExecuteTime": {
     "end_time": "2024-08-02T15:51:28.169880Z",
     "start_time": "2024-08-02T15:51:28.067504Z"
    }
   },
   "cell_type": "code",
   "source": [
    "texts = read_text_files(folder_path)\n",
    "print(f\"Number of texts read: {len(texts)}\")"
   ],
   "id": "9e4d50951b2a1070",
   "outputs": [
    {
     "name": "stdout",
     "output_type": "stream",
     "text": [
      "Number of texts read: 341\n"
     ]
    }
   ],
   "execution_count": 4
  },
  {
   "metadata": {},
   "cell_type": "markdown",
   "source": "#### Tokenisasi BPE",
   "id": "323115f36d134613"
  },
  {
   "metadata": {
    "ExecuteTime": {
     "end_time": "2024-08-02T15:51:47.972209Z",
     "start_time": "2024-08-02T15:51:29.452369Z"
    }
   },
   "cell_type": "code",
   "source": [
    "import re\n",
    "from collections import Counter, defaultdict\n",
    "import pickle\n",
    "\n",
    "def get_vocab(texts):\n",
    "    vocab = Counter()\n",
    "    for text in texts:\n",
    "        words = re.findall(r'\\b\\w+\\b', text.lower())\n",
    "        for word in words:\n",
    "            vocab[' '.join(list(word)) + ' </w>'] += 1\n",
    "    return vocab\n",
    "\n",
    "vocab = get_vocab(texts)\n",
    "\n",
    "def get_stats(vocab):\n",
    "    pairs = defaultdict(int)\n",
    "    for word, freq in vocab.items():\n",
    "        symbols = word.split()\n",
    "        for i in range(len(symbols) - 1):\n",
    "            pairs[symbols[i], symbols[i + 1]] += freq\n",
    "    return pairs\n",
    "\n",
    "def merge_vocab(pair, v_in):\n",
    "    v_out = {}\n",
    "    bigram = ' '.join(pair)\n",
    "    replacement = ''.join(pair)\n",
    "    for word in v_in:\n",
    "        w_out = word.replace(bigram, replacement)\n",
    "        v_out[w_out] = v_in[word]\n",
    "    return v_out\n",
    "\n",
    "num_merges = 10000\n",
    "for i in range(num_merges):\n",
    "    pairs = get_stats(vocab)\n",
    "    if not pairs:\n",
    "        break\n",
    "    best = max(pairs, key=pairs.get)\n",
    "    vocab = merge_vocab(best, vocab)\n",
    "\n",
    "# Membuat kamus token ke indeks\n",
    "token_vocab = {word.replace(' ', ''): i for i, word in enumerate(vocab.keys(), start=2)}\n",
    "token_vocab['<pad>'] = 0\n",
    "token_vocab['<unk>'] = 1\n",
    "\n",
    "# Membalik kamus dari indeks ke token\n",
    "inv_token_vocab = {idx: word for word, idx in token_vocab.items()}\n",
    "\n",
    "# Definisikan fungsi tokenisasi BPE\n",
    "def tokenize_bpe(texts, token_vocab):\n",
    "    tokenized_texts = []\n",
    "    for text in texts:\n",
    "        words = re.findall(r'\\b\\w+\\b', text.lower())\n",
    "        tokenized = []\n",
    "        for word in words:\n",
    "            token = ''.join([c if c in token_vocab else '<unk>' for c in word])\n",
    "            tokenized.append(token_vocab.get(token, token_vocab['<unk>']))\n",
    "        tokenized_texts.append(tokenized)\n",
    "    return tokenized_texts\n",
    "\n",
    "# Simpan token vocab dan encoded texts\n",
    "token_vocab_path = './saved_model/saved_notebook_06/token_vocab.pkl'\n",
    "inv_token_vocab_path = './saved_model/saved_notebook_06/inv_token_vocab.pkl'\n",
    "encoded_texts_bpe_path = './saved_model/saved_notebook_06/encoded_texts_bpe.pkl'\n",
    "\n",
    "with open(token_vocab_path, 'wb') as f:\n",
    "    pickle.dump(token_vocab, f)\n",
    "\n",
    "with open(inv_token_vocab_path, 'wb') as f:\n",
    "    pickle.dump(inv_token_vocab, f)\n",
    "\n",
    "encoded_texts_bpe = tokenize_bpe(texts, token_vocab)\n",
    "with open(encoded_texts_bpe_path, 'wb') as f:\n",
    "    pickle.dump(encoded_texts_bpe, f)\n"
   ],
   "id": "9c96a7077a37a69d",
   "outputs": [],
   "execution_count": 5
  },
  {
   "metadata": {},
   "cell_type": "markdown",
   "source": "#### Mengubah Teks Menjadi Indeks",
   "id": "e251854ab8454864"
  },
  {
   "metadata": {
    "ExecuteTime": {
     "end_time": "2024-08-02T15:51:48.002966Z",
     "start_time": "2024-08-02T15:51:47.975786Z"
    }
   },
   "cell_type": "code",
   "source": [
    "# Muat token vocab dan encoded texts\n",
    "with open(token_vocab_path, 'rb') as f:\n",
    "    token_vocab = pickle.load(f)\n",
    "\n",
    "with open(inv_token_vocab_path, 'rb') as f:\n",
    "    inv_token_vocab = pickle.load(f)\n",
    "\n",
    "with open(encoded_texts_bpe_path, 'rb') as f:\n",
    "    encoded_texts_bpe = pickle.load(f)\n"
   ],
   "id": "e495804743a5dc6c",
   "outputs": [],
   "execution_count": 6
  },
  {
   "metadata": {},
   "cell_type": "markdown",
   "source": "#### Definisi Model Transformer",
   "id": "96eb3a852a4af41d"
  },
  {
   "metadata": {
    "ExecuteTime": {
     "end_time": "2024-08-02T15:51:51.266342Z",
     "start_time": "2024-08-02T15:51:48.004968Z"
    }
   },
   "cell_type": "code",
   "source": [
    "import tensorflow as tf\n",
    "from tensorflow.keras import layers\n",
    "import numpy as np\n",
    "\n",
    "class PositionalEncoding(layers.Layer):\n",
    "    def __init__(self, max_len, d_model):\n",
    "        super(PositionalEncoding, self).__init__()\n",
    "        self.pos_encoding = self.positional_encoding(max_len, d_model)\n",
    "\n",
    "    def positional_encoding(self, max_len, d_model):\n",
    "        angle_rads = self.get_angles(np.arange(max_len)[:, np.newaxis],\n",
    "                                     np.arange(d_model)[np.newaxis, :],\n",
    "                                     d_model)\n",
    "        angle_rads[:, 0::2] = np.sin(angle_rads[:, 0::2])\n",
    "        angle_rads[:, 1::2] = np.cos(angle_rads[:, 1::2])\n",
    "        pos_encoding = angle_rads[np.newaxis, ...]\n",
    "        return tf.cast(pos_encoding, dtype=tf.float32)\n",
    "\n",
    "    def get_angles(self, pos, i, d_model):\n",
    "        angle_rates = 1 / np.power(10000, (2 * (i // 2)) / np.float32(d_model))\n",
    "        return pos * angle_rates\n",
    "\n",
    "    def call(self, inputs):\n",
    "        return inputs + self.pos_encoding[:, :tf.shape(inputs)[1], :]\n",
    "\n",
    "def transformer_decoder(vocab_size, d_model, num_layers, num_heads, dff, max_seq_len, rate=0.1):\n",
    "    inputs = layers.Input(shape=(max_seq_len,))\n",
    "    embedding = layers.Embedding(vocab_size, d_model)(inputs)\n",
    "    pos_encoding = PositionalEncoding(max_len=max_seq_len, d_model=d_model)(embedding)\n",
    "\n",
    "    x = pos_encoding\n",
    "    for _ in range(num_layers):\n",
    "        mha = layers.MultiHeadAttention(num_heads=num_heads, key_dim=d_model)(x, x)\n",
    "        mha = layers.Dropout(rate)(mha)\n",
    "        x = layers.LayerNormalization(epsilon=1e-6)(x + mha)\n",
    "        ffn_output = layers.Dense(dff, activation='relu')(x)\n",
    "        ffn_output = layers.Dense(d_model)(ffn_output)\n",
    "        ffn_output = layers.Dropout(rate)(ffn_output)\n",
    "        x = layers.LayerNormalization(epsilon=1e-6)(x + ffn_output)\n",
    "\n",
    "    outputs = layers.Dense(vocab_size)(x)\n",
    "    return tf.keras.Model(inputs=inputs, outputs=outputs)\n",
    "\n",
    "vocab_size = len(token_vocab)\n",
    "d_model = 512\n",
    "num_layers = 6\n",
    "num_heads = 8\n",
    "dff = 2048\n",
    "max_seq_len = 512\n",
    "dropout_rate = 0.1\n",
    "\n",
    "model = transformer_decoder(vocab_size, d_model, num_layers, num_heads, dff, max_seq_len, dropout_rate)\n",
    "\n",
    "model.summary()\n"
   ],
   "id": "cd737db960f54ed5",
   "outputs": [
    {
     "name": "stdout",
     "output_type": "stream",
     "text": [
      "Model: \"model\"\n",
      "__________________________________________________________________________________________________\n",
      " Layer (type)                   Output Shape         Param #     Connected to                     \n",
      "==================================================================================================\n",
      " input_1 (InputLayer)           [(None, 512)]        0           []                               \n",
      "                                                                                                  \n",
      " embedding (Embedding)          (None, 512, 512)     2437632     ['input_1[0][0]']                \n",
      "                                                                                                  \n",
      " positional_encoding (Positiona  (None, 512, 512)    0           ['embedding[0][0]']              \n",
      " lEncoding)                                                                                       \n",
      "                                                                                                  \n",
      " multi_head_attention (MultiHea  (None, 512, 512)    8401408     ['positional_encoding[0][0]',    \n",
      " dAttention)                                                      'positional_encoding[0][0]']    \n",
      "                                                                                                  \n",
      " dropout (Dropout)              (None, 512, 512)     0           ['multi_head_attention[0][0]']   \n",
      "                                                                                                  \n",
      " tf.__operators__.add (TFOpLamb  (None, 512, 512)    0           ['positional_encoding[0][0]',    \n",
      " da)                                                              'dropout[0][0]']                \n",
      "                                                                                                  \n",
      " layer_normalization (LayerNorm  (None, 512, 512)    1024        ['tf.__operators__.add[0][0]']   \n",
      " alization)                                                                                       \n",
      "                                                                                                  \n",
      " dense (Dense)                  (None, 512, 2048)    1050624     ['layer_normalization[0][0]']    \n",
      "                                                                                                  \n",
      " dense_1 (Dense)                (None, 512, 512)     1049088     ['dense[0][0]']                  \n",
      "                                                                                                  \n",
      " dropout_1 (Dropout)            (None, 512, 512)     0           ['dense_1[0][0]']                \n",
      "                                                                                                  \n",
      " tf.__operators__.add_1 (TFOpLa  (None, 512, 512)    0           ['layer_normalization[0][0]',    \n",
      " mbda)                                                            'dropout_1[0][0]']              \n",
      "                                                                                                  \n",
      " layer_normalization_1 (LayerNo  (None, 512, 512)    1024        ['tf.__operators__.add_1[0][0]'] \n",
      " rmalization)                                                                                     \n",
      "                                                                                                  \n",
      " multi_head_attention_1 (MultiH  (None, 512, 512)    8401408     ['layer_normalization_1[0][0]',  \n",
      " eadAttention)                                                    'layer_normalization_1[0][0]']  \n",
      "                                                                                                  \n",
      " dropout_2 (Dropout)            (None, 512, 512)     0           ['multi_head_attention_1[0][0]'] \n",
      "                                                                                                  \n",
      " tf.__operators__.add_2 (TFOpLa  (None, 512, 512)    0           ['layer_normalization_1[0][0]',  \n",
      " mbda)                                                            'dropout_2[0][0]']              \n",
      "                                                                                                  \n",
      " layer_normalization_2 (LayerNo  (None, 512, 512)    1024        ['tf.__operators__.add_2[0][0]'] \n",
      " rmalization)                                                                                     \n",
      "                                                                                                  \n",
      " dense_2 (Dense)                (None, 512, 2048)    1050624     ['layer_normalization_2[0][0]']  \n",
      "                                                                                                  \n",
      " dense_3 (Dense)                (None, 512, 512)     1049088     ['dense_2[0][0]']                \n",
      "                                                                                                  \n",
      " dropout_3 (Dropout)            (None, 512, 512)     0           ['dense_3[0][0]']                \n",
      "                                                                                                  \n",
      " tf.__operators__.add_3 (TFOpLa  (None, 512, 512)    0           ['layer_normalization_2[0][0]',  \n",
      " mbda)                                                            'dropout_3[0][0]']              \n",
      "                                                                                                  \n",
      " layer_normalization_3 (LayerNo  (None, 512, 512)    1024        ['tf.__operators__.add_3[0][0]'] \n",
      " rmalization)                                                                                     \n",
      "                                                                                                  \n",
      " multi_head_attention_2 (MultiH  (None, 512, 512)    8401408     ['layer_normalization_3[0][0]',  \n",
      " eadAttention)                                                    'layer_normalization_3[0][0]']  \n",
      "                                                                                                  \n",
      " dropout_4 (Dropout)            (None, 512, 512)     0           ['multi_head_attention_2[0][0]'] \n",
      "                                                                                                  \n",
      " tf.__operators__.add_4 (TFOpLa  (None, 512, 512)    0           ['layer_normalization_3[0][0]',  \n",
      " mbda)                                                            'dropout_4[0][0]']              \n",
      "                                                                                                  \n",
      " layer_normalization_4 (LayerNo  (None, 512, 512)    1024        ['tf.__operators__.add_4[0][0]'] \n",
      " rmalization)                                                                                     \n",
      "                                                                                                  \n",
      " dense_4 (Dense)                (None, 512, 2048)    1050624     ['layer_normalization_4[0][0]']  \n",
      "                                                                                                  \n",
      " dense_5 (Dense)                (None, 512, 512)     1049088     ['dense_4[0][0]']                \n",
      "                                                                                                  \n",
      " dropout_5 (Dropout)            (None, 512, 512)     0           ['dense_5[0][0]']                \n",
      "                                                                                                  \n",
      " tf.__operators__.add_5 (TFOpLa  (None, 512, 512)    0           ['layer_normalization_4[0][0]',  \n",
      " mbda)                                                            'dropout_5[0][0]']              \n",
      "                                                                                                  \n",
      " layer_normalization_5 (LayerNo  (None, 512, 512)    1024        ['tf.__operators__.add_5[0][0]'] \n",
      " rmalization)                                                                                     \n",
      "                                                                                                  \n",
      " multi_head_attention_3 (MultiH  (None, 512, 512)    8401408     ['layer_normalization_5[0][0]',  \n",
      " eadAttention)                                                    'layer_normalization_5[0][0]']  \n",
      "                                                                                                  \n",
      " dropout_6 (Dropout)            (None, 512, 512)     0           ['multi_head_attention_3[0][0]'] \n",
      "                                                                                                  \n",
      " tf.__operators__.add_6 (TFOpLa  (None, 512, 512)    0           ['layer_normalization_5[0][0]',  \n",
      " mbda)                                                            'dropout_6[0][0]']              \n",
      "                                                                                                  \n",
      " layer_normalization_6 (LayerNo  (None, 512, 512)    1024        ['tf.__operators__.add_6[0][0]'] \n",
      " rmalization)                                                                                     \n",
      "                                                                                                  \n",
      " dense_6 (Dense)                (None, 512, 2048)    1050624     ['layer_normalization_6[0][0]']  \n",
      "                                                                                                  \n",
      " dense_7 (Dense)                (None, 512, 512)     1049088     ['dense_6[0][0]']                \n",
      "                                                                                                  \n",
      " dropout_7 (Dropout)            (None, 512, 512)     0           ['dense_7[0][0]']                \n",
      "                                                                                                  \n",
      " tf.__operators__.add_7 (TFOpLa  (None, 512, 512)    0           ['layer_normalization_6[0][0]',  \n",
      " mbda)                                                            'dropout_7[0][0]']              \n",
      "                                                                                                  \n",
      " layer_normalization_7 (LayerNo  (None, 512, 512)    1024        ['tf.__operators__.add_7[0][0]'] \n",
      " rmalization)                                                                                     \n",
      "                                                                                                  \n",
      " multi_head_attention_4 (MultiH  (None, 512, 512)    8401408     ['layer_normalization_7[0][0]',  \n",
      " eadAttention)                                                    'layer_normalization_7[0][0]']  \n",
      "                                                                                                  \n",
      " dropout_8 (Dropout)            (None, 512, 512)     0           ['multi_head_attention_4[0][0]'] \n",
      "                                                                                                  \n",
      " tf.__operators__.add_8 (TFOpLa  (None, 512, 512)    0           ['layer_normalization_7[0][0]',  \n",
      " mbda)                                                            'dropout_8[0][0]']              \n",
      "                                                                                                  \n",
      " layer_normalization_8 (LayerNo  (None, 512, 512)    1024        ['tf.__operators__.add_8[0][0]'] \n",
      " rmalization)                                                                                     \n",
      "                                                                                                  \n",
      " dense_8 (Dense)                (None, 512, 2048)    1050624     ['layer_normalization_8[0][0]']  \n",
      "                                                                                                  \n",
      " dense_9 (Dense)                (None, 512, 512)     1049088     ['dense_8[0][0]']                \n",
      "                                                                                                  \n",
      " dropout_9 (Dropout)            (None, 512, 512)     0           ['dense_9[0][0]']                \n",
      "                                                                                                  \n",
      " tf.__operators__.add_9 (TFOpLa  (None, 512, 512)    0           ['layer_normalization_8[0][0]',  \n",
      " mbda)                                                            'dropout_9[0][0]']              \n",
      "                                                                                                  \n",
      " layer_normalization_9 (LayerNo  (None, 512, 512)    1024        ['tf.__operators__.add_9[0][0]'] \n",
      " rmalization)                                                                                     \n",
      "                                                                                                  \n",
      " multi_head_attention_5 (MultiH  (None, 512, 512)    8401408     ['layer_normalization_9[0][0]',  \n",
      " eadAttention)                                                    'layer_normalization_9[0][0]']  \n",
      "                                                                                                  \n",
      " dropout_10 (Dropout)           (None, 512, 512)     0           ['multi_head_attention_5[0][0]'] \n",
      "                                                                                                  \n",
      " tf.__operators__.add_10 (TFOpL  (None, 512, 512)    0           ['layer_normalization_9[0][0]',  \n",
      " ambda)                                                           'dropout_10[0][0]']             \n",
      "                                                                                                  \n",
      " layer_normalization_10 (LayerN  (None, 512, 512)    1024        ['tf.__operators__.add_10[0][0]']\n",
      " ormalization)                                                                                    \n",
      "                                                                                                  \n",
      " dense_10 (Dense)               (None, 512, 2048)    1050624     ['layer_normalization_10[0][0]'] \n",
      "                                                                                                  \n",
      " dense_11 (Dense)               (None, 512, 512)     1049088     ['dense_10[0][0]']               \n",
      "                                                                                                  \n",
      " dropout_11 (Dropout)           (None, 512, 512)     0           ['dense_11[0][0]']               \n",
      "                                                                                                  \n",
      " tf.__operators__.add_11 (TFOpL  (None, 512, 512)    0           ['layer_normalization_10[0][0]', \n",
      " ambda)                                                           'dropout_11[0][0]']             \n",
      "                                                                                                  \n",
      " layer_normalization_11 (LayerN  (None, 512, 512)    1024        ['tf.__operators__.add_11[0][0]']\n",
      " ormalization)                                                                                    \n",
      "                                                                                                  \n",
      " dense_12 (Dense)               (None, 512, 4761)    2442393     ['layer_normalization_11[0][0]'] \n",
      "                                                                                                  \n",
      "==================================================================================================\n",
      "Total params: 67,899,033\n",
      "Trainable params: 67,899,033\n",
      "Non-trainable params: 0\n",
      "__________________________________________________________________________________________________\n"
     ]
    }
   ],
   "execution_count": 7
  },
  {
   "metadata": {},
   "cell_type": "markdown",
   "source": "#### Dataset dan DataLoader",
   "id": "cfbe00d3282ce3ce"
  },
  {
   "metadata": {
    "ExecuteTime": {
     "end_time": "2024-08-02T15:52:17.764664Z",
     "start_time": "2024-08-02T15:52:17.720107Z"
    }
   },
   "cell_type": "code",
   "source": [
    "import tensorflow as tf\n",
    "\n",
    "class BPEDataset(tf.data.Dataset):\n",
    "    def __new__(cls, encoded_texts, max_length=512):\n",
    "        input_texts = [text[:-1] for text in encoded_texts]  # Semua kecuali token terakhir sebagai input\n",
    "        target_texts = [text[1:] for text in encoded_texts]  # Semua kecuali token pertama sebagai target\n",
    "\n",
    "        input_texts_padded = tf.keras.preprocessing.sequence.pad_sequences(\n",
    "            input_texts, maxlen=max_length, padding='post', truncating='post', value=token_vocab['<pad>'])\n",
    "        target_texts_padded = tf.keras.preprocessing.sequence.pad_sequences(\n",
    "            target_texts, maxlen=max_length, padding='post', truncating='post', value=token_vocab['<pad>'])\n",
    "\n",
    "        return tf.data.Dataset.from_tensor_slices((input_texts_padded, target_texts_padded))\n",
    "\n",
    "with open(encoded_texts_bpe_path, 'rb') as f:\n",
    "    encoded_texts_bpe = pickle.load(f)\n",
    "\n",
    "bpe_dataset = BPEDataset(encoded_texts_bpe)\n",
    "bpe_dataloader = bpe_dataset.shuffle(10000).batch(4)\n"
   ],
   "id": "524e52bd17555e82",
   "outputs": [],
   "execution_count": 9
  },
  {
   "metadata": {},
   "cell_type": "markdown",
   "source": "#### Training Model",
   "id": "caea239dbcf62695"
  },
  {
   "metadata": {
    "ExecuteTime": {
     "end_time": "2024-08-02T14:15:41.485637Z",
     "start_time": "2024-08-02T14:14:07.366470Z"
    }
   },
   "cell_type": "code",
   "source": [
    "model.compile(optimizer=tf.keras.optimizers.Adam(learning_rate=5e-5),\n",
    "              loss=tf.keras.losses.SparseCategoricalCrossentropy(from_logits=True),\n",
    "              metrics=['accuracy'])\n",
    "\n",
    "# Untuk mencatat loss selama pelatihan\n",
    "class LossHistory(tf.keras.callbacks.Callback):\n",
    "    def on_train_begin(self, logs={}):\n",
    "        self.losses = []\n",
    "\n",
    "    def on_epoch_end(self, epoch, logs={}):\n",
    "        self.losses.append(logs.get('loss'))\n",
    "\n",
    "history = LossHistory()\n",
    "\n",
    "# Training Loop\n",
    "epochs = 3\n",
    "\n",
    "model.fit(bpe_dataloader, epochs=epochs, callbacks=[history])\n",
    "\n",
    "# Simpan model setelah kompilasi dan pelatihan\n",
    "model_path = './saved_model/saved_notebook_06/model'\n",
    "model.save(model_path)\n",
    "\n",
    "# Visualisasi loss selama pelatihan\n",
    "import matplotlib.pyplot as plt\n",
    "\n",
    "plt.plot(range(1, epochs + 1), history.losses, marker='o')\n",
    "plt.title('Training Loss Over Epochs')\n",
    "plt.xlabel('Epoch')\n",
    "plt.ylabel('Loss')\n",
    "plt.grid()\n",
    "plt.show()\n"
   ],
   "id": "cb07f0158b0966ec",
   "outputs": [
    {
     "name": "stdout",
     "output_type": "stream",
     "text": [
      "Epoch 1/3\n",
      " 6/86 [=>............................] - ETA: 26s - loss: 0.0190 - accuracy: 0.9988WARNING:tensorflow:Callback method `on_train_batch_end` is slow compared to the batch time (batch time: 0.1126s vs `on_train_batch_end` time: 0.2124s). Check your callbacks.\n"
     ]
    },
    {
     "name": "stderr",
     "output_type": "stream",
     "text": [
      "WARNING:tensorflow:Callback method `on_train_batch_end` is slow compared to the batch time (batch time: 0.1126s vs `on_train_batch_end` time: 0.2124s). Check your callbacks.\n"
     ]
    },
    {
     "name": "stdout",
     "output_type": "stream",
     "text": [
      "86/86 [==============================] - 31s 326ms/step - loss: 0.0459 - accuracy: 0.9956\n",
      "Epoch 2/3\n",
      "86/86 [==============================] - 28s 328ms/step - loss: 0.0407 - accuracy: 0.9956\n",
      "Epoch 3/3\n",
      "86/86 [==============================] - 28s 328ms/step - loss: 0.0347 - accuracy: 0.9956\n"
     ]
    },
    {
     "name": "stderr",
     "output_type": "stream",
     "text": [
      "WARNING:absl:Found untraced functions such as query_layer_call_fn, query_layer_call_and_return_conditional_losses, key_layer_call_fn, key_layer_call_and_return_conditional_losses, value_layer_call_fn while saving (showing 5 of 72). These functions will not be directly callable after loading.\n"
     ]
    },
    {
     "name": "stdout",
     "output_type": "stream",
     "text": [
      "INFO:tensorflow:Assets written to: ./saved_model/saved_notebook_06/model\\assets\n"
     ]
    },
    {
     "name": "stderr",
     "output_type": "stream",
     "text": [
      "INFO:tensorflow:Assets written to: ./saved_model/saved_notebook_06/model\\assets\n"
     ]
    },
    {
     "data": {
      "text/plain": [
       "<Figure size 640x480 with 1 Axes>"
      ],
      "image/png": "[encoded data removed]"
     },
     "metadata": {},
     "output_type": "display_data"
    }
   ],
   "execution_count": 22
  },
  {
   "metadata": {},
   "cell_type": "markdown",
   "source": "## GENERATIVE CONTENT",
   "id": "a33bcedda1ba80ac"
  },
  {
   "metadata": {
    "ExecuteTime": {
     "end_time": "2024-08-02T16:07:22.391172Z",
     "start_time": "2024-08-02T16:07:18.630957Z"
    }
   },
   "cell_type": "code",
   "source": [
    "import numpy as np\n",
    "import tensorflow as tf\n",
    "import pickle\n",
    "\n",
    "# Path untuk memuat model dan token vocab\n",
    "model_path = './saved_model/saved_notebook_06/model'\n",
    "token_vocab_path = './saved_model/saved_notebook_06/token_vocab.pkl'\n",
    "inv_token_vocab_path = './saved_model/saved_notebook_06/inv_token_vocab.pkl'\n",
    "\n",
    "# Muat model yang sudah dilatih\n",
    "model = tf.keras.models.load_model(model_path, custom_objects={'PositionalEncoding': PositionalEncoding})\n",
    "\n",
    "# Muat token vocab dan inv_token_vocab\n",
    "with open(token_vocab_path, 'rb') as f:\n",
    "    token_vocab = pickle.load(f)\n",
    "\n",
    "with open(inv_token_vocab_path, 'rb') as f:\n",
    "    inv_token_vocab = pickle.load(f)\n",
    "\n",
    "def predict_text(model, input_text, token_vocab, inv_token_vocab, max_length=512, gen_length=50):\n",
    "    # Tokenisasi input\n",
    "    input_tokens = [token_vocab.get(c, token_vocab['<unk>']) for c in input_text]\n",
    "    \n",
    "    # Padding input tokens\n",
    "    input_tokens_padded = np.pad(input_tokens, (0, max_length - len(input_tokens)), constant_values=token_vocab['<pad>'])\n",
    "    input_tokens_padded = tf.expand_dims(input_tokens_padded, 0)  # Tambahkan dimensi batch\n",
    "\n",
    "    generated_text = input_text\n",
    "    \n",
    "    for _ in range(gen_length):\n",
    "        # Prediksi dengan model\n",
    "        predictions = model(input_tokens_padded)\n",
    "        predictions = predictions[:, len(input_tokens) - 1, :]  # Ambil prediksi dari token terakhir yang valid\n",
    "\n",
    "        predicted_id = tf.argmax(predictions, axis=-1).numpy()[0]\n",
    "        \n",
    "        print(f\"Predicted ID: {predicted_id}, Predicted Token: {inv_token_vocab[predicted_id]}\")\n",
    "\n",
    "        # Jika token <pad> atau <unk> dihasilkan, hentikan prediksi\n",
    "        if predicted_id in [token_vocab['<pad>'], token_vocab['<unk>']]:\n",
    "            break\n",
    "\n",
    "        # Tambahkan token yang diprediksi ke input\n",
    "        input_tokens.append(predicted_id)\n",
    "        input_tokens_padded = np.pad(input_tokens, (0, max_length - len(input_tokens)), constant_values=token_vocab['<pad>'])\n",
    "        input_tokens_padded = tf.expand_dims(input_tokens_padded, 0)  # Tambahkan dimensi batch\n",
    "\n",
    "        # Tambahkan karakter yang diprediksi ke teks yang dihasilkan\n",
    "        generated_text += inv_token_vocab[predicted_id]\n",
    "\n",
    "        # Hentikan jika token akhir dihasilkan (misalnya token akhir kalimat)\n",
    "        if inv_token_vocab[predicted_id] == '.':\n",
    "            break\n",
    "\n",
    "    return generated_text\n",
    "\n",
    "# Pertanyaan sebagai input\n",
    "input_question = \"Apa yang dimaksud dengan jaringan saraf?\"\n",
    "\n",
    "# Hasilkan teks berdasarkan input\n",
    "generated_text = predict_text(model, input_question, token_vocab, inv_token_vocab, max_length=512, gen_length=50)\n",
    "print(\"Generated Text:\", generated_text)"
   ],
   "id": "45b2b9f4dbba5302",
   "outputs": [
    {
     "name": "stdout",
     "output_type": "stream",
     "text": [
      "Predicted ID: 1, Predicted Token: <unk>\n",
      "Generated Text: Apa yang dimaksud dengan jaringan saraf?\n"
     ]
    }
   ],
   "execution_count": 17
  },
  {
   "metadata": {},
   "cell_type": "markdown",
   "source": "## Debugging dan Evaluasi",
   "id": "6888ac41f67175bf"
  },
  {
   "metadata": {
    "ExecuteTime": {
     "end_time": "2024-08-02T16:08:53.295914Z",
     "start_time": "2024-08-02T16:08:52.159138Z"
    }
   },
   "cell_type": "code",
   "source": [
    "import matplotlib.pyplot as plt\n",
    "\n",
    "# Distribusi frekuensi token\n",
    "token_counts = [count for token, count in vocab.items() if count > 0]\n",
    "plt.hist(token_counts, bins=50)\n",
    "plt.yscale('log')\n",
    "plt.title('Token Frequency Distribution')\n",
    "plt.xlabel('Frequency')\n",
    "plt.ylabel('Number of Tokens')\n",
    "plt.show()\n"
   ],
   "id": "2a614bd586df38d8",
   "outputs": [
    {
     "data": {
      "text/plain": [
       "<Figure size 640x480 with 1 Axes>"
      ],
      "image/png": "[encoded data removed]"
     },
     "metadata": {},
     "output_type": "display_data"
    }
   ],
   "execution_count": 18
  },
  {
   "metadata": {},
   "cell_type": "code",
   "outputs": [],
   "execution_count": null,
   "source": "",
   "id": "958e5ba6cf7ede9e"
  }
 ],
 "metadata": {
  "kernelspec": {
   "display_name": "Python 3",
   "language": "python",
   "name": "python3"
  },
  "language_info": {
   "codemirror_mode": {
    "name": "ipython",
    "version": 2
   },
   "file_extension": ".py",
   "mimetype": "text/x-python",
   "name": "python",
   "nbconvert_exporter": "python",
   "pygments_lexer": "ipython2",
   "version": "2.7.6"
  }
 },
 "nbformat": 4,
 "nbformat_minor": 5
}
