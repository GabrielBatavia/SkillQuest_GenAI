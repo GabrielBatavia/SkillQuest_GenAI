{
 "cells": [
  {
   "metadata": {},
   "cell_type": "markdown",
   "source": "## Persiapan Data",
   "id": "8ab1c1d379ec4960"
  },
  {
   "cell_type": "code",
   "id": "initial_id",
   "metadata": {
    "collapsed": true,
    "ExecuteTime": {
     "end_time": "2024-08-04T15:50:55.069387Z",
     "start_time": "2024-08-04T15:50:52.404042Z"
    }
   },
   "source": [
    "import tensorflow as tf\n",
    "from tensorflow.keras.preprocessing.text import Tokenizer\n",
    "from tensorflow.keras.preprocessing.sequence import pad_sequences\n",
    "\n",
    "# Fungsi untuk membaca data dari file teks\n",
    "def load_words(filename):\n",
    "    with open(filename, 'r', encoding='utf-8') as file:\n",
    "        words = file.read().splitlines()\n",
    "    return words\n",
    "\n",
    "# Fungsi untuk membaca dan memetakan slang words\n",
    "def load_slang_words(filename):\n",
    "    import json\n",
    "    with open(filename, 'r', encoding='utf-8') as file:\n",
    "        slang_dict = json.loads(file.read())\n",
    "    return slang_dict\n",
    "\n",
    "# Memuat data dari file\n",
    "root_words = load_words('../Dataset/indonesian_word/combined_root_words.txt')\n",
    "stop_words = load_words('../Dataset/indonesian_word/combined_stop_words.txt')\n",
    "slang_dict = load_slang_words('../Dataset/indonesian_word/combined_slang_words.txt')\n",
    "\n",
    "# Gabungkan semua kata untuk pembentukan kosakata\n",
    "all_words = list(set(root_words + stop_words + list(slang_dict.keys()) + list(slang_dict.values())))\n",
    "\n",
    "# Inisialisasi tokenizer\n",
    "tokenizer = Tokenizer()\n",
    "tokenizer.fit_on_texts(all_words)\n",
    "\n",
    "# Konversi kata menjadi urutan angka\n",
    "word_index = tokenizer.word_index\n",
    "vocab_size = len(word_index) + 1"
   ],
   "outputs": [],
   "execution_count": 1
  },
  {
   "metadata": {},
   "cell_type": "markdown",
   "source": "## Membuat Model Embedding",
   "id": "2c75770f956bb578"
  },
  {
   "metadata": {
    "ExecuteTime": {
     "end_time": "2024-08-04T15:50:57.427318Z",
     "start_time": "2024-08-04T15:50:55.070340Z"
    }
   },
   "cell_type": "code",
   "source": [
    "# Parameter model\n",
    "embedding_dim = 50\n",
    "\n",
    "# Membuat model embedding yang lebih fleksibel\n",
    "model = tf.keras.Sequential([\n",
    "    tf.keras.layers.Embedding(input_dim=vocab_size, output_dim=embedding_dim, input_length=None),\n",
    "    tf.keras.layers.GlobalAveragePooling1D(),\n",
    "    tf.keras.layers.Dense(64, activation='relu'),  # Lapisan tambahan untuk fleksibilitas\n",
    "    tf.keras.layers.Dense(vocab_size, activation='softmax')  # Output layer bisa diubah sesuai kebutuhan\n",
    "])\n",
    "\n",
    "# Menampilkan ringkasan model\n",
    "model.summary()\n",
    "\n",
    "# Mengompilasi model\n",
    "model.compile(optimizer='adam', loss='sparse_categorical_crossentropy', metrics=['accuracy'])"
   ],
   "id": "414552842f133365",
   "outputs": [
    {
     "name": "stdout",
     "output_type": "stream",
     "text": [
      "Model: \"sequential\"\n",
      "_________________________________________________________________\n",
      " Layer (type)                Output Shape              Param #   \n",
      "=================================================================\n",
      " embedding (Embedding)       (None, None, 50)          1465950   \n",
      "                                                                 \n",
      " global_average_pooling1d (G  (None, 50)               0         \n",
      " lobalAveragePooling1D)                                          \n",
      "                                                                 \n",
      " dense (Dense)               (None, 64)                3264      \n",
      "                                                                 \n",
      " dense_1 (Dense)             (None, 29319)             1905735   \n",
      "                                                                 \n",
      "=================================================================\n",
      "Total params: 3,374,949\n",
      "Trainable params: 3,374,949\n",
      "Non-trainable params: 0\n",
      "_________________________________________________________________\n"
     ]
    }
   ],
   "execution_count": 2
  },
  {
   "metadata": {},
   "cell_type": "markdown",
   "source": "## Training Model",
   "id": "31cb5d1dcbdb1111"
  },
  {
   "metadata": {
    "ExecuteTime": {
     "end_time": "2024-08-04T15:52:21.443942Z",
     "start_time": "2024-08-04T15:50:57.429311Z"
    }
   },
   "cell_type": "code",
   "source": [
    "# Tokenisasi data\n",
    "sequences = tokenizer.texts_to_sequences(all_words)\n",
    "padded_sequences = pad_sequences(sequences, padding='post')\n",
    "\n",
    "# Untuk tujuan pelatihan sederhana, kita akan menggunakan kata berikutnya sebagai label\n",
    "import numpy as np\n",
    "\n",
    "# Membuat input dan label dari sequences\n",
    "train_inputs = padded_sequences[:-1]\n",
    "train_labels = np.array([seq[0] for seq in padded_sequences[1:]])\n",
    "\n",
    "# Melatih model dengan data gabungan\n",
    "model.fit(train_inputs, train_labels, epochs=10, validation_split=0.2)\n"
   ],
   "id": "3de2b501b33463d7",
   "outputs": [
    {
     "name": "stdout",
     "output_type": "stream",
     "text": [
      "Epoch 1/10\n",
      "742/742 [==============================] - 10s 12ms/step - loss: 10.3876 - accuracy: 2.5303e-04 - val_loss: 10.5746 - val_accuracy: 0.0000e+00\n",
      "Epoch 2/10\n",
      "742/742 [==============================] - 8s 11ms/step - loss: 10.2145 - accuracy: 4.6388e-04 - val_loss: 11.0408 - val_accuracy: 6.7465e-04\n",
      "Epoch 3/10\n",
      "742/742 [==============================] - 8s 11ms/step - loss: 10.1616 - accuracy: 5.0605e-04 - val_loss: 11.4448 - val_accuracy: 6.7465e-04\n",
      "Epoch 4/10\n",
      "742/742 [==============================] - 8s 11ms/step - loss: 10.0597 - accuracy: 5.9039e-04 - val_loss: 11.8093 - val_accuracy: 6.7465e-04\n",
      "Epoch 5/10\n",
      "742/742 [==============================] - 8s 11ms/step - loss: 9.7229 - accuracy: 5.0605e-04 - val_loss: 12.3996 - val_accuracy: 6.7465e-04\n",
      "Epoch 6/10\n",
      "742/742 [==============================] - 8s 11ms/step - loss: 9.1693 - accuracy: 7.5908e-04 - val_loss: 13.2636 - val_accuracy: 5.0599e-04\n",
      "Epoch 7/10\n",
      "742/742 [==============================] - 8s 11ms/step - loss: 8.3506 - accuracy: 0.0023 - val_loss: 14.6825 - val_accuracy: 5.0599e-04\n",
      "Epoch 8/10\n",
      "742/742 [==============================] - 9s 12ms/step - loss: 7.2291 - accuracy: 0.0202 - val_loss: 15.9265 - val_accuracy: 0.0000e+00\n",
      "Epoch 9/10\n",
      "742/742 [==============================] - 8s 11ms/step - loss: 5.8508 - accuracy: 0.1081 - val_loss: 16.7976 - val_accuracy: 0.0000e+00\n",
      "Epoch 10/10\n",
      "742/742 [==============================] - 8s 11ms/step - loss: 4.3860 - accuracy: 0.3524 - val_loss: 17.6119 - val_accuracy: 0.0000e+00\n"
     ]
    },
    {
     "data": {
      "text/plain": [
       "<keras.callbacks.History at 0x216eb892aa0>"
      ]
     },
     "execution_count": 3,
     "metadata": {},
     "output_type": "execute_result"
    }
   ],
   "execution_count": 3
  },
  {
   "metadata": {
    "ExecuteTime": {
     "end_time": "2024-08-04T15:54:06.900498Z",
     "start_time": "2024-08-04T15:54:05.659099Z"
    }
   },
   "cell_type": "code",
   "source": [
    "# Menyimpan model\n",
    "model.save('../saved_model/base_model_saved/base_model_02/flexible_embedding_model.h5')\n",
    "\n",
    "# Konversi model ke TensorFlow Lite\n",
    "converter = tf.lite.TFLiteConverter.from_keras_model(model)\n",
    "tflite_model = converter.convert()\n",
    "\n",
    "# Menyimpan model TensorFlow Lite\n",
    "with open('../saved_model/base_model_saved/base_model_02/flexible_embedding_model.tflite', 'wb') as f:\n",
    "    f.write(tflite_model)\n"
   ],
   "id": "9e0b3133529a35cc",
   "outputs": [
    {
     "name": "stdout",
     "output_type": "stream",
     "text": [
      "INFO:tensorflow:Assets written to: C:\\Users\\gabri\\AppData\\Local\\Temp\\tmpmtcnen0k\\assets\n"
     ]
    },
    {
     "name": "stderr",
     "output_type": "stream",
     "text": [
      "INFO:tensorflow:Assets written to: C:\\Users\\gabri\\AppData\\Local\\Temp\\tmpmtcnen0k\\assets\n"
     ]
    }
   ],
   "execution_count": 5
  },
  {
   "metadata": {
    "ExecuteTime": {
     "end_time": "2024-08-04T15:45:54.127450Z",
     "start_time": "2024-08-04T15:45:54.114192Z"
    }
   },
   "cell_type": "code",
   "source": [
    "from tensorflow.keras.utils import plot_model\n",
    "\n",
    "# Visualisasi model\n",
    "plot_model(model, to_file='model_architecture.png', show_shapes=True, show_layer_names=True)"
   ],
   "id": "85c1475a33e13b56",
   "outputs": [
    {
     "name": "stdout",
     "output_type": "stream",
     "text": [
      "You must install pydot (`pip install pydot`) and install graphviz (see instructions at https://graphviz.gitlab.io/download/) for plot_model/model_to_dot to work.\n"
     ]
    }
   ],
   "execution_count": 14
  },
  {
   "metadata": {},
   "cell_type": "code",
   "outputs": [],
   "execution_count": null,
   "source": "",
   "id": "8aebbb32ab7a3b21"
  }
 ],
 "metadata": {
  "kernelspec": {
   "display_name": "Python 3",
   "language": "python",
   "name": "python3"
  },
  "language_info": {
   "codemirror_mode": {
    "name": "ipython",
    "version": 2
   },
   "file_extension": ".py",
   "mimetype": "text/x-python",
   "name": "python",
   "nbconvert_exporter": "python",
   "pygments_lexer": "ipython2",
   "version": "2.7.6"
  }
 },
 "nbformat": 4,
 "nbformat_minor": 5
}
