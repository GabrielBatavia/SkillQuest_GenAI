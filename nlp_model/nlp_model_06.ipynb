{
 "cells": [
  {
   "cell_type": "code",
   "id": "initial_id",
   "metadata": {
    "collapsed": true,
    "ExecuteTime": {
     "end_time": "2024-08-13T19:10:37.237028Z",
     "start_time": "2024-08-13T19:03:32.672496Z"
    }
   },
   "source": [
    "import os\n",
    "from transformers import Trainer, TrainingArguments, AutoModelForCausalLM, AutoTokenizer, DataCollatorForLanguageModeling\n",
    "import torch\n",
    "import json\n",
    "\n",
    "# Memastikan hanya menggunakan CPU\n",
    "os.environ['CUDA_VISIBLE_DEVICES'] = '-1'\n",
    "\n",
    "# Load dataset\n",
    "def load_dataset(json_file):\n",
    "    with open(json_file, 'r', encoding='utf-8') as f:\n",
    "        data = json.load(f)\n",
    "    return data\n",
    "\n",
    "# Fungsi untuk fine-tune model\n",
    "def fine_tune_model(model_name, dataset_file, output_dir):\n",
    "    # Load model dan tokenizer\n",
    "    model = AutoModelForCausalLM.from_pretrained(model_name)\n",
    "    tokenizer = AutoTokenizer.from_pretrained(model_name)\n",
    "\n",
    "    # Load dataset\n",
    "    data = load_dataset(dataset_file)\n",
    "\n",
    "    # Konversi data ke format yang dibutuhkan oleh model\n",
    "    inputs = tokenizer([conv['conversations'][0]['value'] for conv in data], return_tensors='pt', truncation=True, padding='max_length', max_length=64)\n",
    "    labels = tokenizer([conv['conversations'][1]['value'] for conv in data], return_tensors='pt', truncation=True, padding='max_length', max_length=64)\n",
    "\n",
    "    # Membuat dataset\n",
    "    class CustomDataset(torch.utils.data.Dataset):\n",
    "        def __init__(self, encodings, labels):\n",
    "            self.encodings = encodings\n",
    "            self.labels = labels\n",
    "\n",
    "        def __getitem__(self, idx):\n",
    "            item = {key: val[idx] for key, val in self.encodings.items()}\n",
    "            item['labels'] = self.labels['input_ids'][idx]\n",
    "            return item\n",
    "\n",
    "        def __len__(self):\n",
    "            return len(self.labels['input_ids'])\n",
    "\n",
    "    dataset = CustomDataset(inputs, labels)\n",
    "\n",
    "    # Mendefinisikan argumen training\n",
    "    training_args = TrainingArguments(\n",
    "        output_dir=output_dir,\n",
    "        per_device_train_batch_size=1,  # Ukuran batch yang lebih kecil\n",
    "        gradient_accumulation_steps=16,  # Accumulate gradients for 16 steps\n",
    "        num_train_epochs=3,\n",
    "        save_steps=10_000,\n",
    "        save_total_limit=2,\n",
    "        evaluation_strategy=\"steps\",  # Evaluasi dilakukan setiap beberapa langkah\n",
    "        eval_steps=5_000,  # Jumlah langkah antara evaluasi\n",
    "        logging_dir='./logs',\n",
    "        report_to=\"none\",\n",
    "        fp16=False,  # Nonaktifkan mixed precision training karena hanya menggunakan CPU\n",
    "        load_best_model_at_end=True,\n",
    "    )\n",
    "\n",
    "    # Inisialisasi Trainer\n",
    "    trainer = Trainer(\n",
    "        model=model,\n",
    "        args=training_args,\n",
    "        train_dataset=dataset,\n",
    "        data_collator=DataCollatorForLanguageModeling(tokenizer, mlm=False),\n",
    "    )\n",
    "\n",
    "    # Fine-tuning model\n",
    "    trainer.train()\n",
    "\n",
    "    # Menyimpan model\n",
    "    trainer.save_model(output_dir)\n",
    "    tokenizer.save_pretrained(output_dir)\n",
    "\n",
    "# Penggunaan contoh\n",
    "model_name = \"kalisai/Nusantara-0.8b-Indo-Chat\"  # Ganti dengan model Nusantara-7b-Indo-Chat\n",
    "dataset_file = '../Dataset/nusantara_dataset/output2.json'  # Path ke file JSON yang dihasilkan sebelumnya\n",
    "output_dir = '../saved_model/fine-tuned-model'  # Directory di mana model yang telah di fine-tune akan disimpan\n",
    "fine_tune_model(model_name, dataset_file, output_dir)\n"
   ],
   "outputs": [
    {
     "name": "stderr",
     "output_type": "stream",
     "text": [
      "C:\\Users\\gabri\\anaconda3\\envs\\workenv\\Lib\\site-packages\\transformers\\training_args.py:1525: FutureWarning: `evaluation_strategy` is deprecated and will be removed in version 4.46 of 🤗 Transformers. Use `eval_strategy` instead\n",
      "  warnings.warn(\n"
     ]
    },
    {
     "data": {
      "text/plain": [
       "<IPython.core.display.HTML object>"
      ],
      "text/html": [
       "\n",
       "    <div>\n",
       "      \n",
       "      <progress value='3' max='3' style='width:300px; height:20px; vertical-align: middle;'></progress>\n",
       "      [3/3 03:36, Epoch 2/3]\n",
       "    </div>\n",
       "    <table border=\"1\" class=\"dataframe\">\n",
       "  <thead>\n",
       " <tr style=\"text-align: left;\">\n",
       "      <th>Step</th>\n",
       "      <th>Training Loss</th>\n",
       "      <th>Validation Loss</th>\n",
       "    </tr>\n",
       "  </thead>\n",
       "  <tbody>\n",
       "  </tbody>\n",
       "</table><p>"
      ]
     },
     "metadata": {},
     "output_type": "display_data"
    }
   ],
   "execution_count": 1
  },
  {
   "metadata": {
    "ExecuteTime": {
     "end_time": "2024-08-13T19:17:56.678250Z",
     "start_time": "2024-08-13T19:17:56.668763Z"
    }
   },
   "cell_type": "code",
   "source": "",
   "id": "ac3f478dfff814ed",
   "outputs": [
    {
     "name": "stdout",
     "output_type": "stream",
     "text": [
      "hallo\n"
     ]
    }
   ],
   "execution_count": 2
  },
  {
   "metadata": {
    "ExecuteTime": {
     "end_time": "2024-08-13T21:10:48.863714Z",
     "start_time": "2024-08-13T21:10:43.746271Z"
    }
   },
   "cell_type": "code",
   "source": [
    "from datasets import load_dataset\n",
    "\n",
    "# Memuat dataset\n",
    "ds = load_dataset(\"akmalfairuz/indoprog\")\n",
    "\n",
    "# Loop untuk menyimpan setiap split dataset ke file CSV\n",
    "for split in ds:\n",
    "    # Mendefinisikan nama file output berdasarkan split\n",
    "    csv_filename = f\"indoprog_{split}.csv\"\n",
    "    \n",
    "    # Mengekspor dataset split ke CSV\n",
    "    ds[split].to_csv(csv_filename, index=False)\n",
    "    \n",
    "    print(f\"Dataset {split} berhasil diunduh dan disimpan sebagai {csv_filename}\")\n"
   ],
   "id": "c9805d7bbfc32463",
   "outputs": [
    {
     "data": {
      "text/plain": [
       "Creating CSV from Arrow format:   0%|          | 0/2 [00:00<?, ?ba/s]"
      ],
      "application/vnd.jupyter.widget-view+json": {
       "version_major": 2,
       "version_minor": 0,
       "model_id": "783c85363b7c40b5ae07b45a1362e0cc"
      }
     },
     "metadata": {},
     "output_type": "display_data"
    },
    {
     "name": "stdout",
     "output_type": "stream",
     "text": [
      "Dataset train berhasil diunduh dan disimpan sebagai indoprog_train.csv\n"
     ]
    }
   ],
   "execution_count": 2
  },
  {
   "metadata": {},
   "cell_type": "code",
   "outputs": [],
   "execution_count": null,
   "source": "",
   "id": "6c17350a9daf4972"
  }
 ],
 "metadata": {
  "kernelspec": {
   "display_name": "Python 3",
   "language": "python",
   "name": "python3"
  },
  "language_info": {
   "codemirror_mode": {
    "name": "ipython",
    "version": 2
   },
   "file_extension": ".py",
   "mimetype": "text/x-python",
   "name": "python",
   "nbconvert_exporter": "python",
   "pygments_lexer": "ipython2",
   "version": "2.7.6"
  }
 },
 "nbformat": 4,
 "nbformat_minor": 5
}
