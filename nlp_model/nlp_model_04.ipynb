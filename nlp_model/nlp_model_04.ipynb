{
 "cells": [
  {
   "metadata": {
    "ExecuteTime": {
     "end_time": "2024-08-11T08:20:29.689104Z",
     "start_time": "2024-08-11T08:14:28.812373Z"
    }
   },
   "cell_type": "code",
   "source": [
    "import os\n",
    "import tensorflow as tf\n",
    "import random \n",
    "from transformers import BertTokenizer, TFBertModel\n",
    "from datasets import Dataset, load_from_disk, concatenate_datasets\n",
    "from tensorflow.keras.mixed_precision import experimental as mixed_precision\n",
    "from tensorflow.keras.optimizers import Adam\n",
    "from tensorflow.keras.mixed_precision import LossScaleOptimizer\n",
    "\n",
    "# Set mixed precision policy\n",
    "policy = mixed_precision.Policy('mixed_float16')\n",
    "mixed_precision.set_policy(policy)\n",
    "\n",
    "# Configure TensorFlow to use CPU (no specific configuration needed)\n",
    "physical_devices = tf.config.list_physical_devices('CPU')\n",
    "print(f\"Available CPU devices: {physical_devices}\")\n",
    "\n",
    "# Load IndoBERT tokenizer and model (TensorFlow version)\n",
    "tokenizer = BertTokenizer.from_pretrained(\"indobenchmark/indobert-base-p1\")\n",
    "bert_model = TFBertModel.from_pretrained(\"indobenchmark/indobert-base-p1\")\n",
    "\n",
    "# Enable gradient checkpointing for memory efficiency\n",
    "bert_model.config.gradient_checkpointing = True\n",
    "\n",
    "# Generator to read text files and clean text\n",
    "def read_text_files_generator(folder_path):\n",
    "    for filename in os.listdir(folder_path):\n",
    "        if filename.endswith(\".txt\"):\n",
    "            with open(os.path.join(folder_path, filename), 'r', encoding='utf-8') as file:\n",
    "                content = file.read().strip().lower()\n",
    "                if content:\n",
    "                    yield clean_text(content)\n",
    "\n",
    "def clean_text(text):\n",
    "    unwanted_chars = ['*', '#', '_', ')', '(', '!', '?', '.', ',', '-']\n",
    "    for char in unwanted_chars:\n",
    "        text = text.replace(char, '')\n",
    "    return text\n",
    "\n",
    "# Define tokenize function\n",
    "def tokenize_function(examples):\n",
    "    return tokenizer(examples[\"text\"], padding=\"max_length\", truncation=True, max_length=512)\n",
    "\n",
    "# Function to tokenize and save batches\n",
    "def tokenize_and_save_batch(texts, batch_index, tokenizer, save_dir):\n",
    "    batch_dataset = Dataset.from_dict({\"text\": texts})\n",
    "    tokenized_batch = batch_dataset.map(tokenize_function, batched=True, remove_columns=[\"text\"])\n",
    "    tokenized_batch.save_to_disk(f'{save_dir}/tokenized_dataset_batch_{batch_index}')\n",
    "\n",
    "# Process texts in batches and save tokenized datasets\n",
    "def process_in_batches(folder_path, batch_size, tokenizer, save_dir):\n",
    "    batch_texts = []\n",
    "    batch_index = 0\n",
    "    for text in read_text_files_generator(folder_path):\n",
    "        batch_texts.append(text)\n",
    "        if len(batch_texts) >= batch_size:\n",
    "            tokenize_and_save_batch(batch_texts, batch_index, tokenizer, save_dir)\n",
    "            batch_texts = []\n",
    "            batch_index += 1\n",
    "    if batch_texts:\n",
    "        tokenize_and_save_batch(batch_texts, batch_index, tokenizer, save_dir)\n",
    "\n",
    "# Example usage:\n",
    "process_in_batches('../Dataset/nlp_dataset', batch_size=100, tokenizer=tokenizer, save_dir='../saved_model/nlp_saved/nlp_04/new_tokenized')\n",
    "\n",
    "# Fungsi untuk memastikan input tetap dalam bentuk dictionary\n",
    "def prepare_inputs(input_ids, attention_mask=None, token_type_ids=None):\n",
    "    inputs = {\n",
    "        'input_ids': input_ids,\n",
    "        'attention_mask': attention_mask,\n",
    "        'token_type_ids': token_type_ids\n",
    "    }\n",
    "    return inputs\n",
    "\n",
    "# Fungsi untuk memanggil model dengan input yang disiapkan\n",
    "def call_model(model, inputs):\n",
    "    return model(prepare_inputs(\n",
    "        inputs['input_ids'],\n",
    "        inputs['attention_mask'],\n",
    "        inputs.get('token_type_ids', None)\n",
    "    ))\n",
    "\n",
    "# Verifikasi bentuk input model sebelum menyimpan\n",
    "def verify_input_shape(model, inputs):\n",
    "    try:\n",
    "        output = call_model(model, inputs)\n",
    "        print(f\"Input shape is consistent with model: {inputs['input_ids'].shape}\")\n",
    "    except Exception as e:\n",
    "        print(f\"Error in input shape: {str(e)}\")\n",
    "\n",
    "# Uji konsistensi model sebelum menyimpan\n",
    "def test_model_save_and_load(model, save_path):\n",
    "    # Simpan model\n",
    "    model.save(save_path)\n",
    "    print(f\"Model saved to {save_path}\")\n",
    "\n",
    "    # Muat kembali model\n",
    "    loaded_model = tf.keras.models.load_model(save_path)\n",
    "\n",
    "    # Verifikasi bahwa model ter-load dengan benar\n",
    "    loaded_model.summary()\n",
    "    \n",
    "    # Uji input pada model yang ter-load\n",
    "    verify_input_shape(loaded_model, example_input)\n",
    "    print(\"Model loaded and tested successfully.\")\n",
    "\n",
    "# Contoh input untuk verifikasi\n",
    "example_input = {\n",
    "    'input_ids': tf.constant([[1, 2, 3, 4]]), \n",
    "    'attention_mask': tf.constant([[1, 1, 1, 1]])\n",
    "}\n",
    "\n",
    "# Uji konsistensi sebelum menyimpan model\n",
    "verify_input_shape(bert_model, example_input)\n",
    "\n",
    "# Class for accumulated optimizer\n",
    "class AccumulatedOptimizer(tf.keras.optimizers.Optimizer):\n",
    "    def __init__(self, optimizer, accumulation_steps=2):\n",
    "        super(AccumulatedOptimizer, self).__init__(name=\"AccumulatedOptimizer\")\n",
    "        self.optimizer = optimizer\n",
    "        self.accumulation_steps = accumulation_steps\n",
    "        self.iterations = 0\n",
    "\n",
    "    def apply_gradients(self, grads_and_vars, name=None, experimental_aggregate_gradients=True):\n",
    "        if not hasattr(self, \"grad_accumulation\"):\n",
    "            self.grad_accumulation = [tf.zeros_like(var) for _, var in grads_and_vars]\n",
    "\n",
    "        # Accumulate gradients\n",
    "        self.grad_accumulation = [\n",
    "            acc + grad / tf.cast(self.accumulation_steps, tf.float32)\n",
    "            for acc, (grad, _) in zip(self.grad_accumulation, grads_and_vars)\n",
    "        ]\n",
    "\n",
    "        self.iterations += 1\n",
    "\n",
    "        if self.iterations % self.accumulation_steps == 0:\n",
    "            # Apply accumulated gradients\n",
    "            self.optimizer.apply_gradients(\n",
    "                zip(self.grad_accumulation, [var for _, var in grads_and_vars])\n",
    "            )\n",
    "            # Reset accumulation\n",
    "            self.grad_accumulation = [\n",
    "                tf.zeros_like(var) for _, var in grads_and_vars\n",
    "            ]\n",
    "\n",
    "# Load dataset with caching for efficient memory usage\n",
    "def load_and_prepare_dataset_with_caching(batch_index, save_dir):\n",
    "    batch_dataset = load_from_disk(f'{save_dir}/tokenized_dataset_batch_{batch_index}')\n",
    "    \n",
    "    # Caching to improve efficiency\n",
    "    dataset = batch_dataset.to_tf_dataset(\n",
    "        columns=[\"input_ids\", \"attention_mask\"],\n",
    "        label_cols=[\"input_ids\"],\n",
    "        shuffle=True,\n",
    "        batch_size=1,  # Use batch size of 1 to minimize memory use\n",
    "        collate_fn=None,\n",
    "    ).cache().map(lambda x, y: (x, y), num_parallel_calls=tf.data.experimental.AUTOTUNE)\n",
    "\n",
    "    return dataset.prefetch(tf.data.experimental.AUTOTUNE)\n",
    "\n",
    "# Define the BertAutoencoder model\n",
    "class BertAutoencoder(tf.keras.Model):\n",
    "    def __init__(self, bert_model):\n",
    "        super(BertAutoencoder, self).__init__()\n",
    "        self.bert = bert_model\n",
    "        self.dense = tf.keras.layers.Dense(bert_model.config.vocab_size, activation='softmax', dtype='float32')\n",
    "\n",
    "    def call(self, inputs):\n",
    "        outputs = self.bert(**inputs)\n",
    "        sequence_output = outputs.last_hidden_state\n",
    "        reconstructed = self.dense(sequence_output)\n",
    "        return reconstructed\n",
    "\n",
    "# Instantiate the model\n",
    "autoencoder_model = BertAutoencoder(bert_model)\n",
    "\n",
    "# Define the optimizer\n",
    "optimizer = Adam(learning_rate=2e-5)\n",
    "\n",
    "# Compile the model\n",
    "autoencoder_model.compile(\n",
    "    optimizer=optimizer,\n",
    "    loss=tf.keras.losses.SparseCategoricalCrossentropy(from_logits=True),\n",
    "    metrics=[\"accuracy\"],\n",
    ")\n",
    "\n",
    "# Define the training step wrapped in tf.function\n",
    "@tf.function\n",
    "def train_step(model, optimizer, x_batch_train, y_batch_train):\n",
    "    with tf.GradientTape() as tape:\n",
    "        logits = model(x_batch_train, training=True)\n",
    "        loss_value = model.compiled_loss(y_batch_train, logits)\n",
    "    \n",
    "    grads = tape.gradient(loss_value, model.trainable_weights)\n",
    "    optimizer.apply_gradients(zip(grads, model.trainable_weights))\n",
    "    \n",
    "    return loss_value\n",
    "\n",
    "# Tambahkan variabel untuk menyimpan loss\n",
    "loss_history = []\n",
    "\n",
    "def train_model_with_optimization_and_save(model, num_batches, save_dir, save_model_path, accumulation_steps=16):\n",
    "    for i in range(num_batches):\n",
    "        print(f\"Training on batch {i+1}/{num_batches}\")\n",
    "        train_dataset = load_and_prepare_dataset_with_caching(i, save_dir)\n",
    "        \n",
    "        step = 0\n",
    "        for x_batch_train, y_batch_train in train_dataset:\n",
    "            step += 1\n",
    "            # Perform training step with tf.function\n",
    "            loss_value = train_step(model, optimizer, x_batch_train, y_batch_train)\n",
    "            \n",
    "            if step % accumulation_steps == 0:\n",
    "                # Log every accumulation step\n",
    "                print(f\"Step {step}: Loss: {loss_value.numpy()}\")\n",
    "                loss_history.append(loss_value.numpy())  # Simpan loss ke dalam loss_history\n",
    "    \n",
    "    # Simpan model setelah pelatihan selesai\n",
    "    model.save(save_model_path)\n",
    "    print(f\"Model saved to {save_model_path}\")\n",
    "\n",
    "# Contoh penggunaan\n",
    "train_model_with_optimization_and_save(autoencoder_model, 13, '../saved_model/nlp_saved/nlp_04/new_tokenized', '../saved_model/nlp_saved/nlp_04/saved_model_directory', accumulation_steps=8)\n",
    "\n",
    "import matplotlib.pyplot as plt\n",
    "\n",
    "# Plot the training loss\n",
    "plt.plot(loss_history)\n",
    "plt.title('Training Loss')\n",
    "plt.xlabel('Step')\n",
    "plt.ylabel('Loss')\n",
    "plt.show()\n",
    "\n",
    "# Simpan dan muat ulang model untuk menguji konsistensi\n",
    "test_model_save_and_load(autoencoder_model, '../saved_model/nlp_saved/nlp_04/test_saved_model_directory')\n",
    "\n",
    "# Load model yang telah disimpan\n",
    "loaded_model = tf.keras.models.load_model('../saved_model/nlp_saved/nlp_04/saved_model_directory')\n",
    "\n",
    "# Pastikan model sudah ter-load dengan benar\n",
    "loaded_model.summary()\n",
    "\n",
    "# Gunakan CPU untuk memuat model\n",
    "with tf.device('/CPU:0'):\n",
    "    loaded_model = tf.keras.models.load_model('../saved_model/nlp_saved/nlp_04/saved_model_directory')\n",
    "\n",
    "# Verifikasi bahwa model ter-load dengan benar\n",
    "loaded_model.summary()\n",
    "\n",
    "# Fungsi untuk generative text dengan mask\n",
    "def generate_masked_text(prompt, tokenizer, model):\n",
    "    input_ids = tokenizer.encode(prompt, return_tensors='tf')\n",
    "    mask_token_index = tf.where(input_ids == tokenizer.mask_token_id)[0]\n",
    "    \n",
    "    # Menjalankan model\n",
    "    token_logits = model(input_ids).logits\n",
    "    mask_token_logits = token_logits[0, mask_token_index, :]\n",
    "    \n",
    "    # Mendapatkan token dengan skor tertinggi\n",
    "    predicted_token_id = tf.argmax(mask_token_logits, axis=-1).numpy()[0]\n",
    "    predicted_token = tokenizer.decode(predicted_token_id)\n",
    "    \n",
    "    return predicted_token\n",
    "\n",
    "# Contoh penggunaan untuk generative text:\n",
    "prompt = \"Indonesia is a [MASK] country.\"\n",
    "generated_text = generate_masked_text(prompt, tokenizer, loaded_model)\n",
    "print(f\"Prompt: {prompt}\")\n",
    "print(f\"Generated text: {generated_text}\")"
   ],
   "id": "27d1b36648f599d7",
   "outputs": [
    {
     "name": "stdout",
     "output_type": "stream",
     "text": [
      "INFO:tensorflow:Mixed precision compatibility check (mixed_float16): OK\n",
      "Your GPU will likely run quickly with dtype policy mixed_float16 as it has compute capability of at least 7.0. Your GPU: NVIDIA GeForce RTX 3050 6GB Laptop GPU, compute capability 8.6\n",
      "WARNING:tensorflow:From C:\\Users\\gabri\\anaconda3\\envs\\myenv\\lib\\site-packages\\keras\\mixed_precision\\loss_scale.py:52: DynamicLossScale.__init__ (from tensorflow.python.training.experimental.loss_scale) is deprecated and will be removed in a future version.\n",
      "Instructions for updating:\n",
      "Use tf.keras.mixed_precision.LossScaleOptimizer instead. LossScaleOptimizer now has all the functionality of DynamicLossScale\n",
      "Available CPU devices: [PhysicalDevice(name='/physical_device:CPU:0', device_type='CPU')]\n"
     ]
    },
    {
     "name": "stderr",
     "output_type": "stream",
     "text": [
      "C:\\Users\\gabri\\anaconda3\\envs\\myenv\\lib\\site-packages\\huggingface_hub\\file_download.py:1132: FutureWarning: `resume_download` is deprecated and will be removed in version 1.0.0. Downloads always resume when possible. If you want to force a new download, use `force_download=True`.\n",
      "  warnings.warn(\n",
      "Some layers from the model checkpoint at indobenchmark/indobert-base-p1 were not used when initializing TFBertModel: ['nsp___cls', 'mlm___cls']\n",
      "- This IS expected if you are initializing TFBertModel from the checkpoint of a model trained on another task or with another architecture (e.g. initializing a BertForSequenceClassification model from a BertForPreTraining model).\n",
      "- This IS NOT expected if you are initializing TFBertModel from the checkpoint of a model that you expect to be exactly identical (initializing a BertForSequenceClassification model from a BertForSequenceClassification model).\n",
      "All the layers of TFBertModel were initialized from the model checkpoint at indobenchmark/indobert-base-p1.\n",
      "If your task is similar to the task the model of the checkpoint was trained on, you can already use TFBertModel for predictions without further training.\n"
     ]
    },
    {
     "data": {
      "text/plain": [
       "Map:   0%|          | 0/100 [00:00<?, ? examples/s]"
      ],
      "application/vnd.jupyter.widget-view+json": {
       "version_major": 2,
       "version_minor": 0,
       "model_id": "9124bed10e5846c0a72ee4deb032cc28"
      }
     },
     "metadata": {},
     "output_type": "display_data"
    },
    {
     "data": {
      "text/plain": [
       "Saving the dataset (0/1 shards):   0%|          | 0/100 [00:00<?, ? examples/s]"
      ],
      "application/vnd.jupyter.widget-view+json": {
       "version_major": 2,
       "version_minor": 0,
       "model_id": "31fc1a57d08b41e7905b805c2b8a3ea8"
      }
     },
     "metadata": {},
     "output_type": "display_data"
    },
    {
     "data": {
      "text/plain": [
       "Map:   0%|          | 0/100 [00:00<?, ? examples/s]"
      ],
      "application/vnd.jupyter.widget-view+json": {
       "version_major": 2,
       "version_minor": 0,
       "model_id": "bef1a80b4883470eb26b3e63fc6d6f58"
      }
     },
     "metadata": {},
     "output_type": "display_data"
    },
    {
     "data": {
      "text/plain": [
       "Saving the dataset (0/1 shards):   0%|          | 0/100 [00:00<?, ? examples/s]"
      ],
      "application/vnd.jupyter.widget-view+json": {
       "version_major": 2,
       "version_minor": 0,
       "model_id": "05a3f15420fc4f7e8d0e0638095f6f67"
      }
     },
     "metadata": {},
     "output_type": "display_data"
    },
    {
     "data": {
      "text/plain": [
       "Map:   0%|          | 0/100 [00:00<?, ? examples/s]"
      ],
      "application/vnd.jupyter.widget-view+json": {
       "version_major": 2,
       "version_minor": 0,
       "model_id": "af98422de69049ec8f65440d83b96ebd"
      }
     },
     "metadata": {},
     "output_type": "display_data"
    },
    {
     "data": {
      "text/plain": [
       "Saving the dataset (0/1 shards):   0%|          | 0/100 [00:00<?, ? examples/s]"
      ],
      "application/vnd.jupyter.widget-view+json": {
       "version_major": 2,
       "version_minor": 0,
       "model_id": "115209bb84d64bd39252d675d482688f"
      }
     },
     "metadata": {},
     "output_type": "display_data"
    },
    {
     "data": {
      "text/plain": [
       "Map:   0%|          | 0/100 [00:00<?, ? examples/s]"
      ],
      "application/vnd.jupyter.widget-view+json": {
       "version_major": 2,
       "version_minor": 0,
       "model_id": "93415bc6b57545a0b356b7d208ed6b94"
      }
     },
     "metadata": {},
     "output_type": "display_data"
    },
    {
     "data": {
      "text/plain": [
       "Saving the dataset (0/1 shards):   0%|          | 0/100 [00:00<?, ? examples/s]"
      ],
      "application/vnd.jupyter.widget-view+json": {
       "version_major": 2,
       "version_minor": 0,
       "model_id": "9b5d765470d24709869da2c0d271bd46"
      }
     },
     "metadata": {},
     "output_type": "display_data"
    },
    {
     "data": {
      "text/plain": [
       "Map:   0%|          | 0/100 [00:00<?, ? examples/s]"
      ],
      "application/vnd.jupyter.widget-view+json": {
       "version_major": 2,
       "version_minor": 0,
       "model_id": "2ee9a739cd66488481eeb08c0cc9ced5"
      }
     },
     "metadata": {},
     "output_type": "display_data"
    },
    {
     "data": {
      "text/plain": [
       "Saving the dataset (0/1 shards):   0%|          | 0/100 [00:00<?, ? examples/s]"
      ],
      "application/vnd.jupyter.widget-view+json": {
       "version_major": 2,
       "version_minor": 0,
       "model_id": "6c4bfe1a58d94eea957080437b98b3ba"
      }
     },
     "metadata": {},
     "output_type": "display_data"
    },
    {
     "data": {
      "text/plain": [
       "Map:   0%|          | 0/100 [00:00<?, ? examples/s]"
      ],
      "application/vnd.jupyter.widget-view+json": {
       "version_major": 2,
       "version_minor": 0,
       "model_id": "0b1c03bb31384a81b001bb1a8ab8346e"
      }
     },
     "metadata": {},
     "output_type": "display_data"
    },
    {
     "data": {
      "text/plain": [
       "Saving the dataset (0/1 shards):   0%|          | 0/100 [00:00<?, ? examples/s]"
      ],
      "application/vnd.jupyter.widget-view+json": {
       "version_major": 2,
       "version_minor": 0,
       "model_id": "7d5e52b76065464db7c7f75ef2669c4b"
      }
     },
     "metadata": {},
     "output_type": "display_data"
    },
    {
     "data": {
      "text/plain": [
       "Map:   0%|          | 0/100 [00:00<?, ? examples/s]"
      ],
      "application/vnd.jupyter.widget-view+json": {
       "version_major": 2,
       "version_minor": 0,
       "model_id": "634c5c3ee8f14403bcb2b878c8e5ea94"
      }
     },
     "metadata": {},
     "output_type": "display_data"
    },
    {
     "data": {
      "text/plain": [
       "Saving the dataset (0/1 shards):   0%|          | 0/100 [00:00<?, ? examples/s]"
      ],
      "application/vnd.jupyter.widget-view+json": {
       "version_major": 2,
       "version_minor": 0,
       "model_id": "d58404a0aa8c419f8d11ea048884f9cd"
      }
     },
     "metadata": {},
     "output_type": "display_data"
    },
    {
     "data": {
      "text/plain": [
       "Map:   0%|          | 0/100 [00:00<?, ? examples/s]"
      ],
      "application/vnd.jupyter.widget-view+json": {
       "version_major": 2,
       "version_minor": 0,
       "model_id": "4ac24a0da11c4f97b6d5f2583f4756e0"
      }
     },
     "metadata": {},
     "output_type": "display_data"
    },
    {
     "data": {
      "text/plain": [
       "Saving the dataset (0/1 shards):   0%|          | 0/100 [00:00<?, ? examples/s]"
      ],
      "application/vnd.jupyter.widget-view+json": {
       "version_major": 2,
       "version_minor": 0,
       "model_id": "b65a83763e3047a49593fb634ef8a1a8"
      }
     },
     "metadata": {},
     "output_type": "display_data"
    },
    {
     "data": {
      "text/plain": [
       "Map:   0%|          | 0/100 [00:00<?, ? examples/s]"
      ],
      "application/vnd.jupyter.widget-view+json": {
       "version_major": 2,
       "version_minor": 0,
       "model_id": "6429a077c52e425c86d28fa842f5a3eb"
      }
     },
     "metadata": {},
     "output_type": "display_data"
    },
    {
     "data": {
      "text/plain": [
       "Saving the dataset (0/1 shards):   0%|          | 0/100 [00:00<?, ? examples/s]"
      ],
      "application/vnd.jupyter.widget-view+json": {
       "version_major": 2,
       "version_minor": 0,
       "model_id": "91b7b22065664a66a009db03ca6bd1bd"
      }
     },
     "metadata": {},
     "output_type": "display_data"
    },
    {
     "data": {
      "text/plain": [
       "Map:   0%|          | 0/100 [00:00<?, ? examples/s]"
      ],
      "application/vnd.jupyter.widget-view+json": {
       "version_major": 2,
       "version_minor": 0,
       "model_id": "700f266815cb4f92894ecac1b261b403"
      }
     },
     "metadata": {},
     "output_type": "display_data"
    },
    {
     "data": {
      "text/plain": [
       "Saving the dataset (0/1 shards):   0%|          | 0/100 [00:00<?, ? examples/s]"
      ],
      "application/vnd.jupyter.widget-view+json": {
       "version_major": 2,
       "version_minor": 0,
       "model_id": "fa8651f18d724947a3671f4762c8a656"
      }
     },
     "metadata": {},
     "output_type": "display_data"
    },
    {
     "data": {
      "text/plain": [
       "Map:   0%|          | 0/100 [00:00<?, ? examples/s]"
      ],
      "application/vnd.jupyter.widget-view+json": {
       "version_major": 2,
       "version_minor": 0,
       "model_id": "169240d4e55f4fe6852d758bfaddaf85"
      }
     },
     "metadata": {},
     "output_type": "display_data"
    },
    {
     "data": {
      "text/plain": [
       "Saving the dataset (0/1 shards):   0%|          | 0/100 [00:00<?, ? examples/s]"
      ],
      "application/vnd.jupyter.widget-view+json": {
       "version_major": 2,
       "version_minor": 0,
       "model_id": "28d612a4a9734f6bbb29b843f3af3d7d"
      }
     },
     "metadata": {},
     "output_type": "display_data"
    },
    {
     "data": {
      "text/plain": [
       "Map:   0%|          | 0/100 [00:00<?, ? examples/s]"
      ],
      "application/vnd.jupyter.widget-view+json": {
       "version_major": 2,
       "version_minor": 0,
       "model_id": "aa7ef3c501d54ea681a1e7e1bd89ea9d"
      }
     },
     "metadata": {},
     "output_type": "display_data"
    },
    {
     "data": {
      "text/plain": [
       "Saving the dataset (0/1 shards):   0%|          | 0/100 [00:00<?, ? examples/s]"
      ],
      "application/vnd.jupyter.widget-view+json": {
       "version_major": 2,
       "version_minor": 0,
       "model_id": "3681c60535024037acd47860bc0ec548"
      }
     },
     "metadata": {},
     "output_type": "display_data"
    },
    {
     "data": {
      "text/plain": [
       "Map:   0%|          | 0/100 [00:00<?, ? examples/s]"
      ],
      "application/vnd.jupyter.widget-view+json": {
       "version_major": 2,
       "version_minor": 0,
       "model_id": "c5584c137b8e4e8ea30c9587609cf9f4"
      }
     },
     "metadata": {},
     "output_type": "display_data"
    },
    {
     "data": {
      "text/plain": [
       "Saving the dataset (0/1 shards):   0%|          | 0/100 [00:00<?, ? examples/s]"
      ],
      "application/vnd.jupyter.widget-view+json": {
       "version_major": 2,
       "version_minor": 0,
       "model_id": "22c8ecf11f8c4f2a97dc1e5340ddd8de"
      }
     },
     "metadata": {},
     "output_type": "display_data"
    },
    {
     "data": {
      "text/plain": [
       "Map:   0%|          | 0/92 [00:00<?, ? examples/s]"
      ],
      "application/vnd.jupyter.widget-view+json": {
       "version_major": 2,
       "version_minor": 0,
       "model_id": "a59429b9fa004a4e817c6ab1ce4e78ca"
      }
     },
     "metadata": {},
     "output_type": "display_data"
    },
    {
     "data": {
      "text/plain": [
       "Saving the dataset (0/1 shards):   0%|          | 0/92 [00:00<?, ? examples/s]"
      ],
      "application/vnd.jupyter.widget-view+json": {
       "version_major": 2,
       "version_minor": 0,
       "model_id": "bf89c1d208bc41b0ac977555001c3885"
      }
     },
     "metadata": {},
     "output_type": "display_data"
    },
    {
     "name": "stdout",
     "output_type": "stream",
     "text": [
      "Input shape is consistent with model: (1, 4)\n",
      "WARNING:tensorflow:tf.keras.mixed_precision.experimental.LossScaleOptimizer is deprecated. Please use tf.keras.mixed_precision.LossScaleOptimizer instead. Note that the non-experimental LossScaleOptimizer does not take a DynamicLossScale but instead takes the dynamic configuration directly in the constructor. For example:\n",
      "  opt = tf.keras.mixed_precision.LossScaleOptimizer(opt)\n",
      "\n",
      "Training on batch 1/13\n"
     ]
    },
    {
     "name": "stderr",
     "output_type": "stream",
     "text": [
      "C:\\Users\\gabri\\anaconda3\\envs\\myenv\\lib\\site-packages\\datasets\\arrow_dataset.py:410: FutureWarning: The output of `to_tf_dataset` will change when a passing single element list for `labels` or `columns` in the next datasets version. To return a tuple structure rather than dict, pass a single string.\n",
      "Old behaviour: columns=['a'], labels=['labels'] -> (tf.Tensor, tf.Tensor)  \n",
      "             : columns='a', labels='labels' -> (tf.Tensor, tf.Tensor)  \n",
      "New behaviour: columns=['a'],labels=['labels'] -> ({'a': tf.Tensor}, {'labels': tf.Tensor})  \n",
      "             : columns='a', labels='labels' -> (tf.Tensor, tf.Tensor) \n",
      "  warnings.warn(\n",
      "C:\\Users\\gabri\\AppData\\Roaming\\Python\\Python310\\site-packages\\tensorflow\\python\\util\\dispatch.py:1082: UserWarning: \"`sparse_categorical_crossentropy` received `from_logits=True`, but the `output` argument was produced by a sigmoid or softmax activation and thus does not represent logits. Was this intended?\"\n",
      "  return dispatch_target(*args, **kwargs)\n"
     ]
    },
    {
     "name": "stdout",
     "output_type": "stream",
     "text": [
      "WARNING:tensorflow:Gradients do not exist for variables ['tf_bert_model/bert/pooler/dense/kernel:0', 'tf_bert_model/bert/pooler/dense/bias:0'] when minimizing the loss. If you're using `model.compile()`, did you forget to provide a `loss`argument?\n",
      "WARNING:tensorflow:Gradients do not exist for variables ['tf_bert_model/bert/pooler/dense/kernel:0', 'tf_bert_model/bert/pooler/dense/bias:0'] when minimizing the loss. If you're using `model.compile()`, did you forget to provide a `loss`argument?\n",
      "Step 8: Loss: 10.485912322998047\n",
      "Step 16: Loss: 10.290493965148926\n",
      "Step 24: Loss: 9.902446746826172\n",
      "Step 32: Loss: 9.624005317687988\n",
      "Step 40: Loss: 9.576095581054688\n",
      "Step 48: Loss: 9.226822853088379\n",
      "Step 56: Loss: 9.135032653808594\n",
      "Step 64: Loss: 8.87572956085205\n",
      "Step 72: Loss: 8.884318351745605\n",
      "Step 80: Loss: 8.522115707397461\n",
      "Step 88: Loss: 8.159078598022461\n",
      "Step 96: Loss: 8.514646530151367\n",
      "Training on batch 2/13\n",
      "Step 8: Loss: 7.787177085876465\n",
      "Step 16: Loss: 8.15191650390625\n",
      "Step 24: Loss: 7.237349033355713\n",
      "Step 32: Loss: 7.225477695465088\n",
      "Step 40: Loss: 7.0137152671813965\n",
      "Step 48: Loss: 6.972914695739746\n",
      "Step 56: Loss: 6.599080562591553\n",
      "Step 64: Loss: 6.731706619262695\n",
      "Step 72: Loss: 6.392597675323486\n",
      "Step 80: Loss: 6.219875812530518\n",
      "Step 88: Loss: 6.019012451171875\n",
      "Step 96: Loss: 5.924220085144043\n",
      "Training on batch 3/13\n",
      "Step 8: Loss: 5.852089881896973\n",
      "Step 16: Loss: 5.788553237915039\n",
      "Step 24: Loss: 7.058704853057861\n",
      "Step 32: Loss: 5.631862640380859\n",
      "Step 40: Loss: 5.396051406860352\n",
      "Step 48: Loss: 5.750403881072998\n",
      "Step 56: Loss: 5.478936195373535\n",
      "Step 64: Loss: 5.228996276855469\n",
      "Step 72: Loss: 5.462566375732422\n",
      "Step 80: Loss: 4.706381320953369\n",
      "Step 88: Loss: 4.696671009063721\n",
      "Step 96: Loss: 5.23452615737915\n",
      "Training on batch 4/13\n",
      "Step 8: Loss: 4.324917793273926\n",
      "Step 16: Loss: 4.626895427703857\n",
      "Step 24: Loss: 4.5790534019470215\n",
      "Step 32: Loss: 4.245743751525879\n",
      "Step 40: Loss: 3.869649887084961\n",
      "Step 48: Loss: 5.029928207397461\n",
      "Step 56: Loss: 4.1417083740234375\n",
      "Step 64: Loss: 4.3939924240112305\n",
      "Step 72: Loss: 3.8412580490112305\n",
      "Step 80: Loss: 3.6269233226776123\n",
      "Step 88: Loss: 4.152467727661133\n",
      "Step 96: Loss: 3.4068593978881836\n",
      "Training on batch 5/13\n",
      "Step 8: Loss: 4.503508567810059\n",
      "Step 16: Loss: 3.857056140899658\n",
      "Step 24: Loss: 3.74456787109375\n",
      "Step 32: Loss: 4.282618045806885\n",
      "Step 40: Loss: 3.631861925125122\n",
      "Step 48: Loss: 3.4139750003814697\n",
      "Step 56: Loss: 3.4483118057250977\n",
      "Step 64: Loss: 2.959949254989624\n",
      "Step 72: Loss: 3.6131577491760254\n",
      "Step 80: Loss: 3.9255731105804443\n",
      "Step 88: Loss: 2.95617413520813\n",
      "Step 96: Loss: 2.9773693084716797\n",
      "Training on batch 6/13\n",
      "Step 8: Loss: 2.9343342781066895\n",
      "Step 16: Loss: 3.8243558406829834\n",
      "Step 24: Loss: 3.820709228515625\n",
      "Step 32: Loss: 3.3218631744384766\n",
      "Step 40: Loss: 3.2740347385406494\n",
      "Step 48: Loss: 2.608553647994995\n",
      "Step 56: Loss: 2.3520123958587646\n",
      "Step 64: Loss: 3.129073143005371\n",
      "Step 72: Loss: 2.7753279209136963\n",
      "Step 80: Loss: 2.006265640258789\n",
      "Step 88: Loss: 2.8557639122009277\n",
      "Step 96: Loss: 2.7442431449890137\n",
      "Training on batch 7/13\n",
      "Step 8: Loss: 3.1392102241516113\n",
      "Step 16: Loss: 3.226945161819458\n",
      "Step 24: Loss: 3.0569188594818115\n",
      "Step 32: Loss: 3.2258810997009277\n",
      "Step 40: Loss: 2.9235386848449707\n",
      "Step 48: Loss: 2.905061721801758\n",
      "Step 56: Loss: 2.8640756607055664\n",
      "Step 64: Loss: 2.387040615081787\n",
      "Step 72: Loss: 3.8900084495544434\n",
      "Step 80: Loss: 2.0549888610839844\n",
      "Step 88: Loss: 1.8068499565124512\n",
      "Step 96: Loss: 1.5225682258605957\n",
      "Training on batch 8/13\n",
      "Step 8: Loss: 2.0072808265686035\n",
      "Step 16: Loss: 2.0574545860290527\n",
      "Step 24: Loss: 2.7494916915893555\n",
      "Step 32: Loss: 2.2461185455322266\n",
      "Step 40: Loss: 1.9262105226516724\n",
      "Step 48: Loss: 1.7874950170516968\n",
      "Step 56: Loss: 2.1408941745758057\n",
      "Step 64: Loss: 2.025080919265747\n",
      "Step 72: Loss: 1.962430477142334\n",
      "Step 80: Loss: 1.8478772640228271\n",
      "Step 88: Loss: 1.7224124670028687\n",
      "Step 96: Loss: 1.731203556060791\n",
      "Training on batch 9/13\n",
      "Step 8: Loss: 2.0632543563842773\n",
      "Step 16: Loss: 2.076176881790161\n",
      "Step 24: Loss: 3.097684383392334\n",
      "Step 32: Loss: 2.2773423194885254\n",
      "Step 40: Loss: 1.3551124334335327\n",
      "Step 48: Loss: 1.6822131872177124\n",
      "Step 56: Loss: 2.192685604095459\n",
      "Step 64: Loss: 2.9885659217834473\n",
      "Step 72: Loss: 1.6409446001052856\n",
      "Step 80: Loss: 1.7456353902816772\n",
      "Step 88: Loss: 2.3864259719848633\n",
      "Step 96: Loss: 1.7291457653045654\n",
      "Training on batch 10/13\n",
      "Step 8: Loss: 2.498314619064331\n",
      "Step 16: Loss: 1.7866734266281128\n",
      "Step 24: Loss: 1.9809212684631348\n",
      "Step 32: Loss: 1.9356846809387207\n",
      "Step 40: Loss: 1.9511107206344604\n",
      "Step 48: Loss: 1.8224157094955444\n",
      "Step 56: Loss: 1.8910198211669922\n",
      "Step 64: Loss: 1.9479825496673584\n",
      "Step 72: Loss: 1.5227437019348145\n",
      "Step 80: Loss: 1.4066979885101318\n",
      "Step 88: Loss: 2.3596267700195312\n",
      "Step 96: Loss: 1.6044883728027344\n",
      "Training on batch 11/13\n",
      "Step 8: Loss: 2.120711326599121\n",
      "Step 16: Loss: 1.7471355199813843\n",
      "Step 24: Loss: 1.4226261377334595\n",
      "Step 32: Loss: 2.2566146850585938\n",
      "Step 40: Loss: 2.1240615844726562\n",
      "Step 48: Loss: 1.1388969421386719\n",
      "Step 56: Loss: 1.4359265565872192\n",
      "Step 64: Loss: 1.5201038122177124\n",
      "Step 72: Loss: 1.451369047164917\n",
      "Step 80: Loss: 1.2809042930603027\n",
      "Step 88: Loss: 1.8758611679077148\n",
      "Step 96: Loss: 2.1314005851745605\n",
      "Training on batch 12/13\n",
      "Step 8: Loss: 1.2692145109176636\n",
      "Step 16: Loss: 1.111253261566162\n",
      "Step 24: Loss: 2.3600211143493652\n",
      "Step 32: Loss: 0.795434832572937\n",
      "Step 40: Loss: 2.364415407180786\n",
      "Step 48: Loss: 2.0007879734039307\n",
      "Step 56: Loss: 2.2294631004333496\n",
      "Step 64: Loss: 1.849782943725586\n",
      "Step 72: Loss: 0.7469860911369324\n",
      "Step 80: Loss: 0.8684402704238892\n",
      "Step 88: Loss: 0.9947842359542847\n",
      "Step 96: Loss: 2.62618350982666\n",
      "Training on batch 13/13\n",
      "Step 8: Loss: 1.0275081396102905\n",
      "Step 16: Loss: 1.042844533920288\n",
      "Step 24: Loss: 0.9798686504364014\n",
      "Step 32: Loss: 1.0484343767166138\n",
      "Step 40: Loss: 1.072560429573059\n",
      "Step 48: Loss: 0.8992390036582947\n",
      "Step 56: Loss: 0.8308150768280029\n",
      "Step 64: Loss: 1.2181525230407715\n",
      "Step 72: Loss: 1.2010807991027832\n",
      "Step 80: Loss: 1.1112124919891357\n",
      "Step 88: Loss: 1.393408179283142\n",
      "Step 96: Loss: 0.9795790314674377\n"
     ]
    },
    {
     "name": "stderr",
     "output_type": "stream",
     "text": [
      "WARNING:absl:Found untraced functions such as serving, embeddings_layer_call_fn, embeddings_layer_call_and_return_conditional_losses, encoder_layer_call_fn, encoder_layer_call_and_return_conditional_losses while saving (showing 5 of 421). These functions will not be directly callable after loading.\n"
     ]
    },
    {
     "name": "stdout",
     "output_type": "stream",
     "text": [
      "INFO:tensorflow:Assets written to: ../saved_model/nlp_saved/nlp_04/saved_model_directory\\assets\n"
     ]
    },
    {
     "name": "stderr",
     "output_type": "stream",
     "text": [
      "INFO:tensorflow:Assets written to: ../saved_model/nlp_saved/nlp_04/saved_model_directory\\assets\n"
     ]
    },
    {
     "name": "stdout",
     "output_type": "stream",
     "text": [
      "Model saved to ../saved_model/nlp_saved/nlp_04/saved_model_directory\n"
     ]
    },
    {
     "data": {
      "text/plain": [
       "<Figure size 640x480 with 1 Axes>"
      ],
      "image/png": "[encoded data removed]"
     },
     "metadata": {},
     "output_type": "display_data"
    },
    {
     "name": "stderr",
     "output_type": "stream",
     "text": [
      "WARNING:absl:Found untraced functions such as serving, embeddings_layer_call_fn, embeddings_layer_call_and_return_conditional_losses, encoder_layer_call_fn, encoder_layer_call_and_return_conditional_losses while saving (showing 5 of 421). These functions will not be directly callable after loading.\n"
     ]
    },
    {
     "name": "stdout",
     "output_type": "stream",
     "text": [
      "INFO:tensorflow:Assets written to: ../saved_model/nlp_saved/nlp_04/test_saved_model_directory\\assets\n"
     ]
    },
    {
     "name": "stderr",
     "output_type": "stream",
     "text": [
      "INFO:tensorflow:Assets written to: ../saved_model/nlp_saved/nlp_04/test_saved_model_directory\\assets\n"
     ]
    },
    {
     "name": "stdout",
     "output_type": "stream",
     "text": [
      "Model saved to ../saved_model/nlp_saved/nlp_04/test_saved_model_directory\n"
     ]
    },
    {
     "name": "stderr",
     "output_type": "stream",
     "text": [
      "C:\\Users\\gabri\\anaconda3\\envs\\myenv\\lib\\site-packages\\transformers\\configuration_utils.py:365: UserWarning: Passing `gradient_checkpointing` to a config initialization is deprecated and will be removed in v5 Transformers. Using `model.gradient_checkpointing_enable()` instead, or if you are using the `Trainer` API, pass `gradient_checkpointing=True` in your `TrainingArguments`.\n",
      "  warnings.warn(\n"
     ]
    },
    {
     "ename": "ResourceExhaustedError",
     "evalue": "OOM when allocating tensor with shape[50000,768] and type float on /job:localhost/replica:0/task:0/device:GPU:0 by allocator GPU_0_bfc [Op:Fill]",
     "output_type": "error",
     "traceback": [
      "\u001B[1;31m---------------------------------------------------------------------------\u001B[0m",
      "\u001B[1;31mResourceExhaustedError\u001B[0m                    Traceback (most recent call last)",
      "Cell \u001B[1;32mIn[1], line 235\u001B[0m\n\u001B[0;32m    232\u001B[0m plt\u001B[38;5;241m.\u001B[39mshow()\n\u001B[0;32m    234\u001B[0m \u001B[38;5;66;03m# Simpan dan muat ulang model untuk menguji konsistensi\u001B[39;00m\n\u001B[1;32m--> 235\u001B[0m \u001B[43mtest_model_save_and_load\u001B[49m\u001B[43m(\u001B[49m\u001B[43mautoencoder_model\u001B[49m\u001B[43m,\u001B[49m\u001B[43m \u001B[49m\u001B[38;5;124;43m'\u001B[39;49m\u001B[38;5;124;43m../saved_model/nlp_saved/nlp_04/test_saved_model_directory\u001B[39;49m\u001B[38;5;124;43m'\u001B[39;49m\u001B[43m)\u001B[49m\n\u001B[0;32m    237\u001B[0m \u001B[38;5;66;03m# Load model yang telah disimpan\u001B[39;00m\n\u001B[0;32m    238\u001B[0m loaded_model \u001B[38;5;241m=\u001B[39m tf\u001B[38;5;241m.\u001B[39mkeras\u001B[38;5;241m.\u001B[39mmodels\u001B[38;5;241m.\u001B[39mload_model(\u001B[38;5;124m'\u001B[39m\u001B[38;5;124m../saved_model/nlp_saved/nlp_04/saved_model_directory\u001B[39m\u001B[38;5;124m'\u001B[39m)\n",
      "Cell \u001B[1;32mIn[1], line 98\u001B[0m, in \u001B[0;36mtest_model_save_and_load\u001B[1;34m(model, save_path)\u001B[0m\n\u001B[0;32m     95\u001B[0m \u001B[38;5;28mprint\u001B[39m(\u001B[38;5;124mf\u001B[39m\u001B[38;5;124m\"\u001B[39m\u001B[38;5;124mModel saved to \u001B[39m\u001B[38;5;132;01m{\u001B[39;00msave_path\u001B[38;5;132;01m}\u001B[39;00m\u001B[38;5;124m\"\u001B[39m)\n\u001B[0;32m     97\u001B[0m \u001B[38;5;66;03m# Muat kembali model\u001B[39;00m\n\u001B[1;32m---> 98\u001B[0m loaded_model \u001B[38;5;241m=\u001B[39m \u001B[43mtf\u001B[49m\u001B[38;5;241;43m.\u001B[39;49m\u001B[43mkeras\u001B[49m\u001B[38;5;241;43m.\u001B[39;49m\u001B[43mmodels\u001B[49m\u001B[38;5;241;43m.\u001B[39;49m\u001B[43mload_model\u001B[49m\u001B[43m(\u001B[49m\u001B[43msave_path\u001B[49m\u001B[43m)\u001B[49m\n\u001B[0;32m    100\u001B[0m \u001B[38;5;66;03m# Verifikasi bahwa model ter-load dengan benar\u001B[39;00m\n\u001B[0;32m    101\u001B[0m loaded_model\u001B[38;5;241m.\u001B[39msummary()\n",
      "File \u001B[1;32m~\\anaconda3\\envs\\myenv\\lib\\site-packages\\keras\\utils\\traceback_utils.py:67\u001B[0m, in \u001B[0;36mfilter_traceback.<locals>.error_handler\u001B[1;34m(*args, **kwargs)\u001B[0m\n\u001B[0;32m     65\u001B[0m \u001B[38;5;28;01mexcept\u001B[39;00m \u001B[38;5;167;01mException\u001B[39;00m \u001B[38;5;28;01mas\u001B[39;00m e:  \u001B[38;5;66;03m# pylint: disable=broad-except\u001B[39;00m\n\u001B[0;32m     66\u001B[0m   filtered_tb \u001B[38;5;241m=\u001B[39m _process_traceback_frames(e\u001B[38;5;241m.\u001B[39m__traceback__)\n\u001B[1;32m---> 67\u001B[0m   \u001B[38;5;28;01mraise\u001B[39;00m e\u001B[38;5;241m.\u001B[39mwith_traceback(filtered_tb) \u001B[38;5;28;01mfrom\u001B[39;00m \u001B[38;5;28;01mNone\u001B[39;00m\n\u001B[0;32m     68\u001B[0m \u001B[38;5;28;01mfinally\u001B[39;00m:\n\u001B[0;32m     69\u001B[0m   \u001B[38;5;28;01mdel\u001B[39;00m filtered_tb\n",
      "File \u001B[1;32m~\\anaconda3\\envs\\myenv\\lib\\site-packages\\keras\\initializers\\initializers_v2.py:145\u001B[0m, in \u001B[0;36mZeros.__call__\u001B[1;34m(self, shape, dtype, **kwargs)\u001B[0m\n\u001B[0;32m    143\u001B[0m \u001B[38;5;28;01mif\u001B[39;00m _PARTITION_SHAPE \u001B[38;5;129;01min\u001B[39;00m kwargs:\n\u001B[0;32m    144\u001B[0m   shape \u001B[38;5;241m=\u001B[39m kwargs[_PARTITION_SHAPE]\n\u001B[1;32m--> 145\u001B[0m \u001B[38;5;28;01mreturn\u001B[39;00m \u001B[43mtf\u001B[49m\u001B[38;5;241;43m.\u001B[39;49m\u001B[43mzeros\u001B[49m\u001B[43m(\u001B[49m\u001B[43mshape\u001B[49m\u001B[43m,\u001B[49m\u001B[43m \u001B[49m\u001B[43mdtype\u001B[49m\u001B[43m)\u001B[49m\n",
      "\u001B[1;31mResourceExhaustedError\u001B[0m: OOM when allocating tensor with shape[50000,768] and type float on /job:localhost/replica:0/task:0/device:GPU:0 by allocator GPU_0_bfc [Op:Fill]"
     ]
    }
   ],
   "execution_count": 1
  },
  {
   "metadata": {},
   "cell_type": "code",
   "source": "",
   "id": "d9c4a64573753c8f",
   "outputs": [],
   "execution_count": null
  }
 ],
 "metadata": {
  "kernelspec": {
   "display_name": "Python 3",
   "language": "python",
   "name": "python3"
  },
  "language_info": {
   "codemirror_mode": {
    "name": "ipython",
    "version": 2
   },
   "file_extension": ".py",
   "mimetype": "text/x-python",
   "name": "python",
   "nbconvert_exporter": "python",
   "pygments_lexer": "ipython2",
   "version": "2.7.6"
  }
 },
 "nbformat": 4,
 "nbformat_minor": 5
}
